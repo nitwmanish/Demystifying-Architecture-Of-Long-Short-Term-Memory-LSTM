{
 "cells": [
  {
   "cell_type": "markdown",
   "metadata": {},
   "source": [
    "# Building A LSTM From Scratch"
   ]
  },
  {
   "cell_type": "markdown",
   "metadata": {},
   "source": [
    "Import the modules."
   ]
  },
  {
   "cell_type": "code",
   "execution_count": 1,
   "metadata": {},
   "outputs": [
    {
     "name": "stderr",
     "output_type": "stream",
     "text": [
      "Using TensorFlow backend.\n"
     ]
    }
   ],
   "source": [
    "import numpy as np\n",
    "from keras.layers import LSTM\n",
    "from keras.layers import Dense\n",
    "from collections import Counter\n",
    "from keras.layers import Flatten\n",
    "from keras.models import Sequential\n",
    "from keras.utils import to_categorical\n",
    "from keras.preprocessing.text import one_hot\n",
    "from keras.layers.recurrent import SimpleRNN\n",
    "from keras.layers.embeddings import Embedding\n",
    "from keras.preprocessing.sequence import pad_sequences"
   ]
  },
  {
   "cell_type": "markdown",
   "metadata": {},
   "source": [
    "Let's consider an example text: \"This is an example.\"\n",
    "\n",
    "Define the input and output."
   ]
  },
  {
   "cell_type": "code",
   "execution_count": 2,
   "metadata": {},
   "outputs": [],
   "source": [
    "#define documents\n",
    "docs = ['this is','is an']\n",
    "# define class labels\n",
    "labels = ['an','example']"
   ]
  },
  {
   "cell_type": "markdown",
   "metadata": {},
   "source": [
    "The strategy that we'll adopt to build an LSTM is as follows:\n",
    "\n",
    "* 1. One-hot encode the words.\n",
    "* 2. Identify the maximum length of input:Pad the rest of input to the maximum length so that all the inputs are of the same length.\n",
    "* 3. Convert the words in the input into a one-hot-encoded version.\n",
    "* 4. Convert the words in the output into a one-hot-encoded version.\n",
    "* 5. Process the input and the output data, then fit the LSTM model."
   ]
  },
  {
   "cell_type": "markdown",
   "metadata": {},
   "source": [
    "Preprocess our dataset so that it can be passed to an LSTM.\n",
    "\n",
    "In the code \n",
    "* Identifying all the unique words and their corresponding frequency (counts) in the dataset. \n",
    "* Assigning an ID number to each word."
   ]
  },
  {
   "cell_type": "code",
   "execution_count": 3,
   "metadata": {},
   "outputs": [],
   "source": [
    "counts = Counter()\n",
    "for i,review in enumerate(docs+labels):\n",
    "    counts.update(review.split())\n",
    "words = sorted(counts, key=counts.get, reverse=True)\n",
    "vocab_size=len(words)\n",
    "word_to_int = {word: i for i, word in enumerate(words, 1)}"
   ]
  },
  {
   "cell_type": "markdown",
   "metadata": {},
   "source": [
    "print word_to_int."
   ]
  },
  {
   "cell_type": "code",
   "execution_count": 4,
   "metadata": {},
   "outputs": [
    {
     "data": {
      "text/plain": [
       "{'is': 1, 'an': 2, 'this': 3, 'example': 4}"
      ]
     },
     "execution_count": 4,
     "metadata": {},
     "output_type": "execute_result"
    }
   ],
   "source": [
    "word_to_int"
   ]
  },
  {
   "cell_type": "markdown",
   "metadata": {},
   "source": [
    "Modify the input and output words with their corresponding IDs.\n",
    "\n",
    "* Appending the ID of each word of an input sentence into a list, thus making the input (encoded_docs) a list of lists.\n",
    "* Appending the ID of each word of the output into a list."
   ]
  },
  {
   "cell_type": "code",
   "execution_count": 5,
   "metadata": {},
   "outputs": [],
   "source": [
    "encoded_docs = []\n",
    "for doc in docs:\n",
    "    encoded_docs.append([word_to_int[word] for word in doc.split()])\n",
    "encoded_labels = []\n",
    "for label in labels:\n",
    "    encoded_labels.append([word_to_int[word] for word in label.split()])"
   ]
  },
  {
   "cell_type": "code",
   "execution_count": 6,
   "metadata": {},
   "outputs": [
    {
     "name": "stdout",
     "output_type": "stream",
     "text": [
      "encoded_docs:  [[3, 1], [1, 2]]\n",
      "encoded_labels:  [[2], [4]]\n"
     ]
    }
   ],
   "source": [
    "print('encoded_docs: ',encoded_docs)\n",
    "print('encoded_labels: ',encoded_labels)"
   ]
  },
  {
   "cell_type": "markdown",
   "metadata": {},
   "source": [
    "We also have to take care of input length while encoding the input. \n",
    "* In cases of sentiment analysis, the input text length can vary from one review to another. \n",
    "* The neural network expects the input size to be fixed. \n",
    "* To tackle this problem, we perform padding on top of the input. \n",
    "* Padding ensures that all inputs are encoded to have a similar length. "
   ]
  },
  {
   "cell_type": "markdown",
   "metadata": {},
   "source": [
    "In the code, we are passing encoded_docs to the pad_sequences function, which ensures that all the input data points have the same length—which is equal to the maxlen parameter.\n",
    "\n",
    "# For those parameters that are shorter than maxlen \n",
    "* It pads data points with a value of 0 to achieve a total length of maxlen and the zero padding is done pre so it will add pads value of 0, to the left of the original encoded sentence."
   ]
  },
  {
   "cell_type": "code",
   "execution_count": 7,
   "metadata": {},
   "outputs": [
    {
     "name": "stdout",
     "output_type": "stream",
     "text": [
      "[[3 1]\n",
      " [1 2]]\n"
     ]
    }
   ],
   "source": [
    "# pad documents to a max length of 2 words\n",
    "max_length = 2\n",
    "padded_docs = pad_sequences(encoded_docs, maxlen=max_length, padding='pre')\n",
    "print(padded_docs)"
   ]
  },
  {
   "cell_type": "markdown",
   "metadata": {},
   "source": [
    "* Now that the input dataset is created, let's preprocess the output dataset so that it can be passed to the model-training step.\n",
    "* The typical processing for outputs is to make them into dummy values, that is, make a one-hot-encoded version of the output labels."
   ]
  },
  {
   "cell_type": "code",
   "execution_count": 8,
   "metadata": {},
   "outputs": [
    {
     "name": "stdout",
     "output_type": "stream",
     "text": [
      "[[0. 0. 1. 0. 0.]\n",
      " [0. 0. 0. 0. 1.]]\n"
     ]
    }
   ],
   "source": [
    "# processing the output dataset\n",
    "one_hot_encoded_labels = to_categorical(encoded_labels, num_classes=5)\n",
    "print(one_hot_encoded_labels)"
   ]
  },
  {
   "cell_type": "markdown",
   "metadata": {},
   "source": [
    "Note: Given the output values (encoded_labels) are {2, 4}, the output vectors have a value of 1 at the second and fourth positions respectively."
   ]
  },
  {
   "cell_type": "markdown",
   "metadata": {},
   "source": [
    "# Let's build the model."
   ]
  },
  {
   "cell_type": "markdown",
   "metadata": {},
   "source": [
    "An LSTM expects the input to be (batch_size, time_steps, and features_per_timestep) in shape. So first needs to reshape the padded_docs input into the following format."
   ]
  },
  {
   "cell_type": "code",
   "execution_count": 9,
   "metadata": {},
   "outputs": [],
   "source": [
    "padded_docs = padded_docs.reshape(2,2,1)"
   ]
  },
  {
   "cell_type": "markdown",
   "metadata": {},
   "source": [
    "* The 'return_sequences' parameter specifies whether we want to obtain the hidden layer values at each time step. A false value for 'return_sequences' specifies that we want the hidden layer output only at the final timestep.\n",
    "\n",
    "* In a many-to-one task, where there are many inputs (one input in each time step) and outputs, 'return_sequences' will be false, resulting in the output being obtained only in the final time step. An example of this could be the stock price on the next day, given a sequence of historical five-day stock prices.\n",
    "\n",
    "* In cases where we try to obtain hidden-layer values in each time step, 'return_sequences' will be set to True. An example of this could be machine translation, where there are many inputs and many outputs."
   ]
  },
  {
   "cell_type": "code",
   "execution_count": 10,
   "metadata": {},
   "outputs": [
    {
     "name": "stdout",
     "output_type": "stream",
     "text": [
      "WARNING:tensorflow:From C:\\Users\\maninaya\\Anaconda3\\envs\\maninaya\\lib\\site-packages\\tensorflow\\python\\framework\\op_def_library.py:263: colocate_with (from tensorflow.python.framework.ops) is deprecated and will be removed in a future version.\n",
      "Instructions for updating:\n",
      "Colocations handled automatically by placer.\n"
     ]
    }
   ],
   "source": [
    "# define the model\n",
    "embed_length=1\n",
    "max_length=2\n",
    "model = Sequential()\n",
    "model.add(LSTM(1,activation='tanh', return_sequences=False,recurrent_initializer='Zeros',recurrent_activation='sigmoid',input_shape=(max_length,embed_length),unroll=True))"
   ]
  },
  {
   "cell_type": "markdown",
   "metadata": {},
   "source": [
    "Connect the LSTM output to five nodes of the output layer.\n",
    "\n",
    "We have performed a Dense(5), as there are five possible classes of output (the output of each example has 5 values, where each value corresponds to the probability of it belonging to word ID 0 to word ID 4)."
   ]
  },
  {
   "cell_type": "code",
   "execution_count": 11,
   "metadata": {},
   "outputs": [],
   "source": [
    "model.add(Dense(5, activation='softmax'))"
   ]
  },
  {
   "cell_type": "markdown",
   "metadata": {},
   "source": [
    "Compile and summarize the model."
   ]
  },
  {
   "cell_type": "code",
   "execution_count": 12,
   "metadata": {},
   "outputs": [
    {
     "name": "stdout",
     "output_type": "stream",
     "text": [
      "_________________________________________________________________\n",
      "Layer (type)                 Output Shape              Param #   \n",
      "=================================================================\n",
      "lstm_1 (LSTM)                (None, 1)                 12        \n",
      "_________________________________________________________________\n",
      "dense_1 (Dense)              (None, 5)                 10        \n",
      "=================================================================\n",
      "Total params: 22\n",
      "Trainable params: 22\n",
      "Non-trainable params: 0\n",
      "_________________________________________________________________\n",
      "None\n"
     ]
    }
   ],
   "source": [
    "# compile the model\n",
    "model.compile(optimizer='adam', loss='binary_crossentropy', metrics=['acc'])\n",
    "# summarize the model\n",
    "print(model.summary())"
   ]
  },
  {
   "cell_type": "markdown",
   "metadata": {},
   "source": [
    "* The number of parameters is 12 in the LSTM layer as there are four gates (forget, input, cell, and output), which results in four weights and four biases connecting the input to the hidden layer. Additionally, the recurrent layer contains weight values that correspond to the four gates, which gives us a total of 12 parameters.\n",
    "* The dense layer has a total of 10 parameters as there are five possible classes as output, and thus five weights and five biases that correspond to each connection from the hidden layer to the output layer."
   ]
  },
  {
   "cell_type": "markdown",
   "metadata": {},
   "source": [
    "Fit the model to predict the output from the input."
   ]
  },
  {
   "cell_type": "code",
   "execution_count": 13,
   "metadata": {},
   "outputs": [
    {
     "name": "stdout",
     "output_type": "stream",
     "text": [
      "WARNING:tensorflow:From C:\\Users\\maninaya\\Anaconda3\\envs\\maninaya\\lib\\site-packages\\tensorflow\\python\\ops\\math_ops.py:3066: to_int32 (from tensorflow.python.ops.math_ops) is deprecated and will be removed in a future version.\n",
      "Instructions for updating:\n",
      "Use tf.cast instead.\n",
      "Epoch 1/500\n",
      "2/2 [==============================] - 1s 563ms/step - loss: 0.4616 - acc: 0.8000\n",
      "Epoch 2/500\n",
      "2/2 [==============================] - 0s 998us/step - loss: 0.4611 - acc: 0.8000\n",
      "Epoch 3/500\n",
      "2/2 [==============================] - 0s 997us/step - loss: 0.4606 - acc: 0.8000\n",
      "Epoch 4/500\n",
      "2/2 [==============================] - 0s 2ms/step - loss: 0.4600 - acc: 0.8000\n",
      "Epoch 5/500\n",
      "2/2 [==============================] - 0s 998us/step - loss: 0.4594 - acc: 0.8000\n",
      "Epoch 6/500\n",
      "2/2 [==============================] - 0s 997us/step - loss: 0.4589 - acc: 0.8000\n",
      "Epoch 7/500\n",
      "2/2 [==============================] - 0s 997us/step - loss: 0.4583 - acc: 0.8000\n",
      "Epoch 8/500\n",
      "2/2 [==============================] - 0s 1ms/step - loss: 0.4577 - acc: 0.8000\n",
      "Epoch 9/500\n",
      "2/2 [==============================] - 0s 1ms/step - loss: 0.4571 - acc: 0.8000\n",
      "Epoch 10/500\n",
      "2/2 [==============================] - 0s 996us/step - loss: 0.4565 - acc: 0.8000\n",
      "Epoch 11/500\n",
      "2/2 [==============================] - 0s 998us/step - loss: 0.4559 - acc: 0.8000\n",
      "Epoch 12/500\n",
      "2/2 [==============================] - 0s 1ms/step - loss: 0.4553 - acc: 0.8000\n",
      "Epoch 13/500\n",
      "2/2 [==============================] - 0s 1ms/step - loss: 0.4547 - acc: 0.8000\n",
      "Epoch 14/500\n",
      "2/2 [==============================] - 0s 1ms/step - loss: 0.4541 - acc: 0.8000\n",
      "Epoch 15/500\n",
      "2/2 [==============================] - 0s 997us/step - loss: 0.4535 - acc: 0.8000\n",
      "Epoch 16/500\n",
      "2/2 [==============================] - 0s 1ms/step - loss: 0.4529 - acc: 0.8000\n",
      "Epoch 17/500\n",
      "2/2 [==============================] - 0s 1ms/step - loss: 0.4523 - acc: 0.8000\n",
      "Epoch 18/500\n",
      "2/2 [==============================] - 0s 1ms/step - loss: 0.4517 - acc: 0.8000\n",
      "Epoch 19/500\n",
      "2/2 [==============================] - 0s 1ms/step - loss: 0.4511 - acc: 0.8000\n",
      "Epoch 20/500\n",
      "2/2 [==============================] - 0s 1ms/step - loss: 0.4505 - acc: 0.8000\n",
      "Epoch 21/500\n",
      "2/2 [==============================] - 0s 997us/step - loss: 0.4499 - acc: 0.8000\n",
      "Epoch 22/500\n",
      "2/2 [==============================] - 0s 997us/step - loss: 0.4493 - acc: 0.8000\n",
      "Epoch 23/500\n",
      "2/2 [==============================] - 0s 1ms/step - loss: 0.4487 - acc: 0.8000\n",
      "Epoch 24/500\n",
      "2/2 [==============================] - 0s 1ms/step - loss: 0.4481 - acc: 0.8000\n",
      "Epoch 25/500\n",
      "2/2 [==============================] - 0s 997us/step - loss: 0.4475 - acc: 0.8000\n",
      "Epoch 26/500\n",
      "2/2 [==============================] - 0s 998us/step - loss: 0.4469 - acc: 0.8000\n",
      "Epoch 27/500\n",
      "2/2 [==============================] - 0s 994us/step - loss: 0.4463 - acc: 0.8000\n",
      "Epoch 28/500\n",
      "2/2 [==============================] - 0s 1ms/step - loss: 0.4457 - acc: 0.8000\n",
      "Epoch 29/500\n",
      "2/2 [==============================] - 0s 996us/step - loss: 0.4451 - acc: 0.8000\n",
      "Epoch 30/500\n",
      "2/2 [==============================] - 0s 997us/step - loss: 0.4445 - acc: 0.8000\n",
      "Epoch 31/500\n",
      "2/2 [==============================] - 0s 998us/step - loss: 0.4439 - acc: 0.8000\n",
      "Epoch 32/500\n",
      "2/2 [==============================] - 0s 997us/step - loss: 0.4433 - acc: 0.8000\n",
      "Epoch 33/500\n",
      "2/2 [==============================] - 0s 997us/step - loss: 0.4427 - acc: 0.8000\n",
      "Epoch 34/500\n",
      "2/2 [==============================] - 0s 2ms/step - loss: 0.4421 - acc: 0.8000\n",
      "Epoch 35/500\n",
      "2/2 [==============================] - 0s 2ms/step - loss: 0.4415 - acc: 0.8000\n",
      "Epoch 36/500\n",
      "2/2 [==============================] - 0s 997us/step - loss: 0.4409 - acc: 0.8000\n",
      "Epoch 37/500\n",
      "2/2 [==============================] - 0s 2ms/step - loss: 0.4403 - acc: 0.8000\n",
      "Epoch 38/500\n",
      "2/2 [==============================] - 0s 997us/step - loss: 0.4397 - acc: 0.8000\n",
      "Epoch 39/500\n",
      "2/2 [==============================] - 0s 1ms/step - loss: 0.4392 - acc: 0.8000\n",
      "Epoch 40/500\n",
      "2/2 [==============================] - 0s 997us/step - loss: 0.4386 - acc: 0.8000\n",
      "Epoch 41/500\n",
      "2/2 [==============================] - 0s 998us/step - loss: 0.4380 - acc: 0.8000\n",
      "Epoch 42/500\n",
      "2/2 [==============================] - 0s 998us/step - loss: 0.4374 - acc: 0.8000\n",
      "Epoch 43/500\n",
      "2/2 [==============================] - 0s 1ms/step - loss: 0.4368 - acc: 0.8000\n",
      "Epoch 44/500\n",
      "2/2 [==============================] - 0s 1ms/step - loss: 0.4362 - acc: 0.8000\n",
      "Epoch 45/500\n",
      "2/2 [==============================] - 0s 2ms/step - loss: 0.4357 - acc: 0.8000\n",
      "Epoch 46/500\n",
      "2/2 [==============================] - 0s 997us/step - loss: 0.4351 - acc: 0.8000\n",
      "Epoch 47/500\n",
      "2/2 [==============================] - 0s 997us/step - loss: 0.4345 - acc: 0.8000\n",
      "Epoch 48/500\n",
      "2/2 [==============================] - 0s 2ms/step - loss: 0.4339 - acc: 0.8000\n",
      "Epoch 49/500\n",
      "2/2 [==============================] - 0s 2ms/step - loss: 0.4333 - acc: 0.8000\n",
      "Epoch 50/500\n",
      "2/2 [==============================] - 0s 1ms/step - loss: 0.4328 - acc: 0.8000\n",
      "Epoch 51/500\n",
      "2/2 [==============================] - 0s 1ms/step - loss: 0.4322 - acc: 0.8000\n",
      "Epoch 52/500\n",
      "2/2 [==============================] - 0s 1ms/step - loss: 0.4316 - acc: 0.8000\n",
      "Epoch 53/500\n",
      "2/2 [==============================] - 0s 3ms/step - loss: 0.4311 - acc: 0.8000\n",
      "Epoch 54/500\n",
      "2/2 [==============================] - 0s 1ms/step - loss: 0.4305 - acc: 0.8000\n",
      "Epoch 55/500\n",
      "2/2 [==============================] - 0s 2ms/step - loss: 0.4299 - acc: 0.8000\n",
      "Epoch 56/500\n",
      "2/2 [==============================] - 0s 1ms/step - loss: 0.4294 - acc: 0.8000\n",
      "Epoch 57/500\n",
      "2/2 [==============================] - 0s 997us/step - loss: 0.4288 - acc: 0.8000\n",
      "Epoch 58/500\n",
      "2/2 [==============================] - 0s 1ms/step - loss: 0.4282 - acc: 0.8000\n",
      "Epoch 59/500\n",
      "2/2 [==============================] - 0s 1ms/step - loss: 0.4277 - acc: 0.8000\n",
      "Epoch 60/500\n",
      "2/2 [==============================] - 0s 997us/step - loss: 0.4271 - acc: 0.8000\n",
      "Epoch 61/500\n",
      "2/2 [==============================] - 0s 1ms/step - loss: 0.4266 - acc: 0.8000\n",
      "Epoch 62/500\n",
      "2/2 [==============================] - 0s 1ms/step - loss: 0.4260 - acc: 0.8000\n",
      "Epoch 63/500\n",
      "2/2 [==============================] - 0s 1ms/step - loss: 0.4254 - acc: 0.8000\n",
      "Epoch 64/500\n",
      "2/2 [==============================] - 0s 996us/step - loss: 0.4249 - acc: 0.8000\n",
      "Epoch 65/500\n",
      "2/2 [==============================] - 0s 997us/step - loss: 0.4243 - acc: 0.8000\n",
      "Epoch 66/500\n",
      "2/2 [==============================] - 0s 1ms/step - loss: 0.4238 - acc: 0.8000\n",
      "Epoch 67/500\n",
      "2/2 [==============================] - 0s 990us/step - loss: 0.4232 - acc: 0.8000\n",
      "Epoch 68/500\n",
      "2/2 [==============================] - 0s 998us/step - loss: 0.4227 - acc: 0.8000\n",
      "Epoch 69/500\n",
      "2/2 [==============================] - 0s 997us/step - loss: 0.4221 - acc: 0.8000\n",
      "Epoch 70/500\n",
      "2/2 [==============================] - 0s 2ms/step - loss: 0.4216 - acc: 0.8000\n",
      "Epoch 71/500\n",
      "2/2 [==============================] - 0s 2ms/step - loss: 0.4211 - acc: 0.8000\n",
      "Epoch 72/500\n",
      "2/2 [==============================] - 0s 998us/step - loss: 0.4205 - acc: 0.8000\n",
      "Epoch 73/500\n",
      "2/2 [==============================] - 0s 996us/step - loss: 0.4200 - acc: 0.8000\n",
      "Epoch 74/500\n",
      "2/2 [==============================] - 0s 1ms/step - loss: 0.4194 - acc: 0.8000\n",
      "Epoch 75/500\n",
      "2/2 [==============================] - 0s 997us/step - loss: 0.4189 - acc: 0.8000\n",
      "Epoch 76/500\n",
      "2/2 [==============================] - 0s 1ms/step - loss: 0.4184 - acc: 0.8000\n",
      "Epoch 77/500\n",
      "2/2 [==============================] - 0s 997us/step - loss: 0.4178 - acc: 0.8000\n",
      "Epoch 78/500\n",
      "2/2 [==============================] - 0s 1ms/step - loss: 0.4173 - acc: 0.8000\n",
      "Epoch 79/500\n",
      "2/2 [==============================] - 0s 998us/step - loss: 0.4168 - acc: 0.8000\n",
      "Epoch 80/500\n",
      "2/2 [==============================] - 0s 997us/step - loss: 0.4163 - acc: 0.8000\n",
      "Epoch 81/500\n",
      "2/2 [==============================] - 0s 1ms/step - loss: 0.4157 - acc: 0.8000\n",
      "Epoch 82/500\n",
      "2/2 [==============================] - 0s 1ms/step - loss: 0.4152 - acc: 0.8000\n",
      "Epoch 83/500\n",
      "2/2 [==============================] - 0s 998us/step - loss: 0.4147 - acc: 0.8000\n",
      "Epoch 84/500\n",
      "2/2 [==============================] - 0s 1ms/step - loss: 0.4142 - acc: 0.8000\n",
      "Epoch 85/500\n",
      "2/2 [==============================] - 0s 997us/step - loss: 0.4136 - acc: 0.8000\n"
     ]
    },
    {
     "name": "stdout",
     "output_type": "stream",
     "text": [
      "Epoch 86/500\n",
      "2/2 [==============================] - 0s 998us/step - loss: 0.4131 - acc: 0.8000\n",
      "Epoch 87/500\n",
      "2/2 [==============================] - 0s 997us/step - loss: 0.4126 - acc: 0.8000\n",
      "Epoch 88/500\n",
      "2/2 [==============================] - 0s 998us/step - loss: 0.4121 - acc: 0.8000\n",
      "Epoch 89/500\n",
      "2/2 [==============================] - 0s 1ms/step - loss: 0.4116 - acc: 0.8000\n",
      "Epoch 90/500\n",
      "2/2 [==============================] - 0s 1ms/step - loss: 0.4111 - acc: 0.8000\n",
      "Epoch 91/500\n",
      "2/2 [==============================] - 0s 1ms/step - loss: 0.4106 - acc: 0.8000\n",
      "Epoch 92/500\n",
      "2/2 [==============================] - 0s 997us/step - loss: 0.4101 - acc: 0.8000\n",
      "Epoch 93/500\n",
      "2/2 [==============================] - 0s 1ms/step - loss: 0.4096 - acc: 0.8000\n",
      "Epoch 94/500\n",
      "2/2 [==============================] - 0s 1ms/step - loss: 0.4090 - acc: 0.8000\n",
      "Epoch 95/500\n",
      "2/2 [==============================] - 0s 1ms/step - loss: 0.4085 - acc: 0.8000\n",
      "Epoch 96/500\n",
      "2/2 [==============================] - 0s 1ms/step - loss: 0.4080 - acc: 0.8000\n",
      "Epoch 97/500\n",
      "2/2 [==============================] - 0s 997us/step - loss: 0.4075 - acc: 0.8000\n",
      "Epoch 98/500\n",
      "2/2 [==============================] - 0s 1ms/step - loss: 0.4071 - acc: 0.8000\n",
      "Epoch 99/500\n",
      "2/2 [==============================] - 0s 2ms/step - loss: 0.4066 - acc: 0.8000\n",
      "Epoch 100/500\n",
      "2/2 [==============================] - 0s 997us/step - loss: 0.4061 - acc: 0.8000\n",
      "Epoch 101/500\n",
      "2/2 [==============================] - 0s 1ms/step - loss: 0.4056 - acc: 0.8000\n",
      "Epoch 102/500\n",
      "2/2 [==============================] - 0s 997us/step - loss: 0.4051 - acc: 0.8000\n",
      "Epoch 103/500\n",
      "2/2 [==============================] - 0s 1ms/step - loss: 0.4046 - acc: 0.8000\n",
      "Epoch 104/500\n",
      "2/2 [==============================] - 0s 993us/step - loss: 0.4041 - acc: 0.8000\n",
      "Epoch 105/500\n",
      "2/2 [==============================] - 0s 997us/step - loss: 0.4036 - acc: 0.8000\n",
      "Epoch 106/500\n",
      "2/2 [==============================] - 0s 998us/step - loss: 0.4031 - acc: 0.8000\n",
      "Epoch 107/500\n",
      "2/2 [==============================] - 0s 997us/step - loss: 0.4027 - acc: 0.8000\n",
      "Epoch 108/500\n",
      "2/2 [==============================] - 0s 997us/step - loss: 0.4022 - acc: 0.8000\n",
      "Epoch 109/500\n",
      "2/2 [==============================] - 0s 997us/step - loss: 0.4017 - acc: 0.8000\n",
      "Epoch 110/500\n",
      "2/2 [==============================] - 0s 996us/step - loss: 0.4012 - acc: 0.8000\n",
      "Epoch 111/500\n",
      "2/2 [==============================] - 0s 997us/step - loss: 0.4008 - acc: 0.8000\n",
      "Epoch 112/500\n",
      "2/2 [==============================] - 0s 997us/step - loss: 0.4003 - acc: 0.8000\n",
      "Epoch 113/500\n",
      "2/2 [==============================] - 0s 998us/step - loss: 0.3998 - acc: 0.8000\n",
      "Epoch 114/500\n",
      "2/2 [==============================] - 0s 998us/step - loss: 0.3994 - acc: 0.8000\n",
      "Epoch 115/500\n",
      "2/2 [==============================] - 0s 997us/step - loss: 0.3989 - acc: 0.8000\n",
      "Epoch 116/500\n",
      "2/2 [==============================] - 0s 1ms/step - loss: 0.3984 - acc: 0.8000\n",
      "Epoch 117/500\n",
      "2/2 [==============================] - 0s 997us/step - loss: 0.3980 - acc: 0.8000\n",
      "Epoch 118/500\n",
      "2/2 [==============================] - 0s 997us/step - loss: 0.3975 - acc: 0.8000\n",
      "Epoch 119/500\n",
      "2/2 [==============================] - 0s 998us/step - loss: 0.3971 - acc: 0.8000\n",
      "Epoch 120/500\n",
      "2/2 [==============================] - 0s 998us/step - loss: 0.3966 - acc: 0.8000\n",
      "Epoch 121/500\n",
      "2/2 [==============================] - 0s 997us/step - loss: 0.3961 - acc: 0.8000\n",
      "Epoch 122/500\n",
      "2/2 [==============================] - 0s 1ms/step - loss: 0.3957 - acc: 0.8000\n",
      "Epoch 123/500\n",
      "2/2 [==============================] - 0s 1ms/step - loss: 0.3952 - acc: 0.8000\n",
      "Epoch 124/500\n",
      "2/2 [==============================] - 0s 2ms/step - loss: 0.3948 - acc: 0.8000\n",
      "Epoch 125/500\n",
      "2/2 [==============================] - 0s 1ms/step - loss: 0.3943 - acc: 0.8000\n",
      "Epoch 126/500\n",
      "2/2 [==============================] - 0s 1ms/step - loss: 0.3939 - acc: 0.8000\n",
      "Epoch 127/500\n",
      "2/2 [==============================] - 0s 1ms/step - loss: 0.3935 - acc: 0.8000\n",
      "Epoch 128/500\n",
      "2/2 [==============================] - 0s 998us/step - loss: 0.3930 - acc: 0.8000\n",
      "Epoch 129/500\n",
      "2/2 [==============================] - 0s 1ms/step - loss: 0.3926 - acc: 0.8000\n",
      "Epoch 130/500\n",
      "2/2 [==============================] - 0s 998us/step - loss: 0.3921 - acc: 0.8000\n",
      "Epoch 131/500\n",
      "2/2 [==============================] - 0s 2ms/step - loss: 0.3917 - acc: 0.8000\n",
      "Epoch 132/500\n",
      "2/2 [==============================] - 0s 997us/step - loss: 0.3913 - acc: 0.8000\n",
      "Epoch 133/500\n",
      "2/2 [==============================] - 0s 1ms/step - loss: 0.3908 - acc: 0.8000\n",
      "Epoch 134/500\n",
      "2/2 [==============================] - 0s 998us/step - loss: 0.3904 - acc: 0.8000\n",
      "Epoch 135/500\n",
      "2/2 [==============================] - 0s 998us/step - loss: 0.3900 - acc: 0.8000\n",
      "Epoch 136/500\n",
      "2/2 [==============================] - 0s 1ms/step - loss: 0.3896 - acc: 0.8000\n",
      "Epoch 137/500\n",
      "2/2 [==============================] - 0s 1ms/step - loss: 0.3891 - acc: 0.8000\n",
      "Epoch 138/500\n",
      "2/2 [==============================] - 0s 998us/step - loss: 0.3887 - acc: 0.8000\n",
      "Epoch 139/500\n",
      "2/2 [==============================] - 0s 1ms/step - loss: 0.3883 - acc: 0.8000\n",
      "Epoch 140/500\n",
      "2/2 [==============================] - 0s 2ms/step - loss: 0.3879 - acc: 0.8000\n",
      "Epoch 141/500\n",
      "2/2 [==============================] - 0s 1ms/step - loss: 0.3875 - acc: 0.8000\n",
      "Epoch 142/500\n",
      "2/2 [==============================] - 0s 998us/step - loss: 0.3870 - acc: 0.8000\n",
      "Epoch 143/500\n",
      "2/2 [==============================] - 0s 998us/step - loss: 0.3866 - acc: 0.8000\n",
      "Epoch 144/500\n",
      "2/2 [==============================] - 0s 1ms/step - loss: 0.3862 - acc: 0.8000\n",
      "Epoch 145/500\n",
      "2/2 [==============================] - 0s 1ms/step - loss: 0.3858 - acc: 0.8000\n",
      "Epoch 146/500\n",
      "2/2 [==============================] - 0s 1ms/step - loss: 0.3854 - acc: 0.8000\n",
      "Epoch 147/500\n",
      "2/2 [==============================] - 0s 998us/step - loss: 0.3850 - acc: 0.8000\n",
      "Epoch 148/500\n",
      "2/2 [==============================] - 0s 1ms/step - loss: 0.3846 - acc: 0.8000\n",
      "Epoch 149/500\n",
      "2/2 [==============================] - 0s 997us/step - loss: 0.3842 - acc: 0.8000\n",
      "Epoch 150/500\n",
      "2/2 [==============================] - 0s 1ms/step - loss: 0.3838 - acc: 0.8000\n",
      "Epoch 151/500\n",
      "2/2 [==============================] - 0s 997us/step - loss: 0.3834 - acc: 0.8000\n",
      "Epoch 152/500\n",
      "2/2 [==============================] - 0s 997us/step - loss: 0.3830 - acc: 0.8000\n",
      "Epoch 153/500\n",
      "2/2 [==============================] - 0s 997us/step - loss: 0.3826 - acc: 0.8000\n",
      "Epoch 154/500\n",
      "2/2 [==============================] - 0s 1ms/step - loss: 0.3822 - acc: 0.8000\n",
      "Epoch 155/500\n",
      "2/2 [==============================] - 0s 998us/step - loss: 0.3818 - acc: 0.8000\n",
      "Epoch 156/500\n",
      "2/2 [==============================] - 0s 1ms/step - loss: 0.3814 - acc: 0.8000\n",
      "Epoch 157/500\n",
      "2/2 [==============================] - 0s 1ms/step - loss: 0.3810 - acc: 0.8000\n",
      "Epoch 158/500\n",
      "2/2 [==============================] - 0s 1ms/step - loss: 0.3806 - acc: 0.8000\n",
      "Epoch 159/500\n",
      "2/2 [==============================] - 0s 997us/step - loss: 0.3803 - acc: 0.8000\n",
      "Epoch 160/500\n",
      "2/2 [==============================] - 0s 997us/step - loss: 0.3799 - acc: 0.8000\n",
      "Epoch 161/500\n",
      "2/2 [==============================] - 0s 998us/step - loss: 0.3795 - acc: 0.8000\n",
      "Epoch 162/500\n",
      "2/2 [==============================] - 0s 1ms/step - loss: 0.3791 - acc: 0.8000\n",
      "Epoch 163/500\n",
      "2/2 [==============================] - 0s 1ms/step - loss: 0.3787 - acc: 0.8000\n",
      "Epoch 164/500\n",
      "2/2 [==============================] - 0s 998us/step - loss: 0.3784 - acc: 0.8000\n",
      "Epoch 165/500\n",
      "2/2 [==============================] - 0s 1ms/step - loss: 0.3780 - acc: 0.8000\n",
      "Epoch 166/500\n",
      "2/2 [==============================] - 0s 1ms/step - loss: 0.3776 - acc: 0.8000\n",
      "Epoch 167/500\n",
      "2/2 [==============================] - 0s 998us/step - loss: 0.3772 - acc: 0.8000\n",
      "Epoch 168/500\n",
      "2/2 [==============================] - 0s 998us/step - loss: 0.3769 - acc: 0.8000\n",
      "Epoch 169/500\n",
      "2/2 [==============================] - 0s 998us/step - loss: 0.3765 - acc: 0.8000\n",
      "Epoch 170/500\n",
      "2/2 [==============================] - 0s 998us/step - loss: 0.3761 - acc: 0.8000\n",
      "Epoch 171/500\n",
      "2/2 [==============================] - 0s 1ms/step - loss: 0.3758 - acc: 0.8000\n",
      "Epoch 172/500\n",
      "2/2 [==============================] - 0s 998us/step - loss: 0.3754 - acc: 0.8000\n"
     ]
    },
    {
     "name": "stdout",
     "output_type": "stream",
     "text": [
      "Epoch 173/500\n",
      "2/2 [==============================] - 0s 998us/step - loss: 0.3751 - acc: 0.8000\n",
      "Epoch 174/500\n",
      "2/2 [==============================] - 0s 1ms/step - loss: 0.3747 - acc: 0.8000\n",
      "Epoch 175/500\n",
      "2/2 [==============================] - 0s 998us/step - loss: 0.3743 - acc: 0.8000\n",
      "Epoch 176/500\n",
      "2/2 [==============================] - 0s 1ms/step - loss: 0.3740 - acc: 0.8000\n",
      "Epoch 177/500\n",
      "2/2 [==============================] - 0s 997us/step - loss: 0.3736 - acc: 0.8000\n",
      "Epoch 178/500\n",
      "2/2 [==============================] - 0s 1ms/step - loss: 0.3733 - acc: 0.8000\n",
      "Epoch 179/500\n",
      "2/2 [==============================] - 0s 1ms/step - loss: 0.3729 - acc: 0.8000\n",
      "Epoch 180/500\n",
      "2/2 [==============================] - 0s 997us/step - loss: 0.3726 - acc: 0.8000\n",
      "Epoch 181/500\n",
      "2/2 [==============================] - 0s 1ms/step - loss: 0.3722 - acc: 0.8000\n",
      "Epoch 182/500\n",
      "2/2 [==============================] - 0s 998us/step - loss: 0.3719 - acc: 0.8000\n",
      "Epoch 183/500\n",
      "2/2 [==============================] - 0s 998us/step - loss: 0.3715 - acc: 0.8000\n",
      "Epoch 184/500\n",
      "2/2 [==============================] - 0s 997us/step - loss: 0.3712 - acc: 0.8000\n",
      "Epoch 185/500\n",
      "2/2 [==============================] - 0s 998us/step - loss: 0.3709 - acc: 0.8000\n",
      "Epoch 186/500\n",
      "2/2 [==============================] - 0s 997us/step - loss: 0.3705 - acc: 0.8000\n",
      "Epoch 187/500\n",
      "2/2 [==============================] - 0s 1ms/step - loss: 0.3702 - acc: 0.8000\n",
      "Epoch 188/500\n",
      "2/2 [==============================] - 0s 996us/step - loss: 0.3699 - acc: 0.8000\n",
      "Epoch 189/500\n",
      "2/2 [==============================] - 0s 998us/step - loss: 0.3695 - acc: 0.8000\n",
      "Epoch 190/500\n",
      "2/2 [==============================] - 0s 998us/step - loss: 0.3692 - acc: 0.8000\n",
      "Epoch 191/500\n",
      "2/2 [==============================] - 0s 997us/step - loss: 0.3689 - acc: 0.8000\n",
      "Epoch 192/500\n",
      "2/2 [==============================] - 0s 997us/step - loss: 0.3685 - acc: 0.8000\n",
      "Epoch 193/500\n",
      "2/2 [==============================] - 0s 997us/step - loss: 0.3682 - acc: 0.8000\n",
      "Epoch 194/500\n",
      "2/2 [==============================] - 0s 998us/step - loss: 0.3679 - acc: 0.8000\n",
      "Epoch 195/500\n",
      "2/2 [==============================] - 0s 998us/step - loss: 0.3675 - acc: 0.8000\n",
      "Epoch 196/500\n",
      "2/2 [==============================] - 0s 998us/step - loss: 0.3672 - acc: 0.8000\n",
      "Epoch 197/500\n",
      "2/2 [==============================] - 0s 998us/step - loss: 0.3669 - acc: 0.8000\n",
      "Epoch 198/500\n",
      "2/2 [==============================] - 0s 991us/step - loss: 0.3666 - acc: 0.8000\n",
      "Epoch 199/500\n",
      "2/2 [==============================] - 0s 2ms/step - loss: 0.3663 - acc: 0.8000\n",
      "Epoch 200/500\n",
      "2/2 [==============================] - 0s 1ms/step - loss: 0.3659 - acc: 0.8000\n",
      "Epoch 201/500\n",
      "2/2 [==============================] - 0s 998us/step - loss: 0.3656 - acc: 0.8000\n",
      "Epoch 202/500\n",
      "2/2 [==============================] - 0s 1ms/step - loss: 0.3653 - acc: 0.8000\n",
      "Epoch 203/500\n",
      "2/2 [==============================] - 0s 1ms/step - loss: 0.3650 - acc: 0.8000\n",
      "Epoch 204/500\n",
      "2/2 [==============================] - 0s 997us/step - loss: 0.3647 - acc: 0.8000\n",
      "Epoch 205/500\n",
      "2/2 [==============================] - 0s 998us/step - loss: 0.3644 - acc: 0.8000\n",
      "Epoch 206/500\n",
      "2/2 [==============================] - 0s 1ms/step - loss: 0.3641 - acc: 0.8000\n",
      "Epoch 207/500\n",
      "2/2 [==============================] - 0s 1ms/step - loss: 0.3638 - acc: 0.8000\n",
      "Epoch 208/500\n",
      "2/2 [==============================] - 0s 998us/step - loss: 0.3635 - acc: 0.8000\n",
      "Epoch 209/500\n",
      "2/2 [==============================] - 0s 1ms/step - loss: 0.3632 - acc: 0.8000\n",
      "Epoch 210/500\n",
      "2/2 [==============================] - 0s 998us/step - loss: 0.3628 - acc: 0.8000\n",
      "Epoch 211/500\n",
      "2/2 [==============================] - 0s 1ms/step - loss: 0.3625 - acc: 0.8000\n",
      "Epoch 212/500\n",
      "2/2 [==============================] - 0s 998us/step - loss: 0.3622 - acc: 0.8000\n",
      "Epoch 213/500\n",
      "2/2 [==============================] - 0s 1ms/step - loss: 0.3619 - acc: 0.8000\n",
      "Epoch 214/500\n",
      "2/2 [==============================] - 0s 1ms/step - loss: 0.3617 - acc: 0.8000\n",
      "Epoch 215/500\n",
      "2/2 [==============================] - 0s 1ms/step - loss: 0.3614 - acc: 0.8000\n",
      "Epoch 216/500\n",
      "2/2 [==============================] - 0s 998us/step - loss: 0.3611 - acc: 0.8000\n",
      "Epoch 217/500\n",
      "2/2 [==============================] - 0s 997us/step - loss: 0.3608 - acc: 0.8000\n",
      "Epoch 218/500\n",
      "2/2 [==============================] - 0s 997us/step - loss: 0.3605 - acc: 0.8000\n",
      "Epoch 219/500\n",
      "2/2 [==============================] - 0s 998us/step - loss: 0.3602 - acc: 0.8000\n",
      "Epoch 220/500\n",
      "2/2 [==============================] - 0s 1ms/step - loss: 0.3599 - acc: 0.8000\n",
      "Epoch 221/500\n",
      "2/2 [==============================] - 0s 998us/step - loss: 0.3596 - acc: 0.8000\n",
      "Epoch 222/500\n",
      "2/2 [==============================] - 0s 1ms/step - loss: 0.3593 - acc: 0.8000\n",
      "Epoch 223/500\n",
      "2/2 [==============================] - 0s 1ms/step - loss: 0.3590 - acc: 0.8000\n",
      "Epoch 224/500\n",
      "2/2 [==============================] - 0s 1ms/step - loss: 0.3588 - acc: 0.8000\n",
      "Epoch 225/500\n",
      "2/2 [==============================] - 0s 1ms/step - loss: 0.3585 - acc: 0.8000\n",
      "Epoch 226/500\n",
      "2/2 [==============================] - 0s 999us/step - loss: 0.3582 - acc: 0.8000\n",
      "Epoch 227/500\n",
      "2/2 [==============================] - 0s 998us/step - loss: 0.3579 - acc: 0.8000\n",
      "Epoch 228/500\n",
      "2/2 [==============================] - 0s 997us/step - loss: 0.3576 - acc: 0.8000\n",
      "Epoch 229/500\n",
      "2/2 [==============================] - 0s 997us/step - loss: 0.3574 - acc: 0.8000\n",
      "Epoch 230/500\n",
      "2/2 [==============================] - 0s 997us/step - loss: 0.3571 - acc: 0.8000\n",
      "Epoch 231/500\n",
      "2/2 [==============================] - 0s 993us/step - loss: 0.3568 - acc: 0.8000\n",
      "Epoch 232/500\n",
      "2/2 [==============================] - 0s 997us/step - loss: 0.3565 - acc: 0.8000\n",
      "Epoch 233/500\n",
      "2/2 [==============================] - 0s 1ms/step - loss: 0.3563 - acc: 0.8000\n",
      "Epoch 234/500\n",
      "2/2 [==============================] - 0s 1ms/step - loss: 0.3560 - acc: 0.8000\n",
      "Epoch 235/500\n",
      "2/2 [==============================] - 0s 1ms/step - loss: 0.3557 - acc: 0.8000\n",
      "Epoch 236/500\n",
      "2/2 [==============================] - 0s 1ms/step - loss: 0.3555 - acc: 0.8000\n",
      "Epoch 237/500\n",
      "2/2 [==============================] - 0s 1ms/step - loss: 0.3552 - acc: 0.8000\n",
      "Epoch 238/500\n",
      "2/2 [==============================] - 0s 998us/step - loss: 0.3549 - acc: 0.8000\n",
      "Epoch 239/500\n",
      "2/2 [==============================] - 0s 1ms/step - loss: 0.3547 - acc: 0.8000\n",
      "Epoch 240/500\n",
      "2/2 [==============================] - 0s 1ms/step - loss: 0.3544 - acc: 0.8000\n",
      "Epoch 241/500\n",
      "2/2 [==============================] - 0s 998us/step - loss: 0.3541 - acc: 0.8000\n",
      "Epoch 242/500\n",
      "2/2 [==============================] - 0s 998us/step - loss: 0.3539 - acc: 0.8000\n",
      "Epoch 243/500\n",
      "2/2 [==============================] - 0s 1ms/step - loss: 0.3536 - acc: 0.8000\n",
      "Epoch 244/500\n",
      "2/2 [==============================] - 0s 998us/step - loss: 0.3534 - acc: 0.8000\n",
      "Epoch 245/500\n",
      "2/2 [==============================] - 0s 998us/step - loss: 0.3531 - acc: 0.8000\n",
      "Epoch 246/500\n",
      "2/2 [==============================] - 0s 998us/step - loss: 0.3528 - acc: 0.8000\n",
      "Epoch 247/500\n",
      "2/2 [==============================] - 0s 991us/step - loss: 0.3526 - acc: 0.8000\n",
      "Epoch 248/500\n",
      "2/2 [==============================] - 0s 998us/step - loss: 0.3523 - acc: 0.8000\n",
      "Epoch 249/500\n",
      "2/2 [==============================] - 0s 998us/step - loss: 0.3521 - acc: 0.8000\n",
      "Epoch 250/500\n",
      "2/2 [==============================] - 0s 1ms/step - loss: 0.3518 - acc: 0.8000\n",
      "Epoch 251/500\n",
      "2/2 [==============================] - 0s 1ms/step - loss: 0.3516 - acc: 0.8000\n",
      "Epoch 252/500\n",
      "2/2 [==============================] - 0s 1ms/step - loss: 0.3513 - acc: 0.8000\n",
      "Epoch 253/500\n",
      "2/2 [==============================] - 0s 1ms/step - loss: 0.3511 - acc: 0.8000\n",
      "Epoch 254/500\n",
      "2/2 [==============================] - 0s 998us/step - loss: 0.3508 - acc: 0.8000\n",
      "Epoch 255/500\n",
      "2/2 [==============================] - 0s 998us/step - loss: 0.3506 - acc: 0.8000\n",
      "Epoch 256/500\n",
      "2/2 [==============================] - 0s 1ms/step - loss: 0.3504 - acc: 0.8000\n",
      "Epoch 257/500\n",
      "2/2 [==============================] - 0s 998us/step - loss: 0.3501 - acc: 0.8000\n",
      "Epoch 258/500\n",
      "2/2 [==============================] - 0s 998us/step - loss: 0.3499 - acc: 0.8000\n",
      "Epoch 259/500\n"
     ]
    },
    {
     "name": "stdout",
     "output_type": "stream",
     "text": [
      "2/2 [==============================] - 0s 1ms/step - loss: 0.3496 - acc: 0.8000\n",
      "Epoch 260/500\n",
      "2/2 [==============================] - 0s 1ms/step - loss: 0.3494 - acc: 0.8000\n",
      "Epoch 261/500\n",
      "2/2 [==============================] - 0s 997us/step - loss: 0.3492 - acc: 0.8000\n",
      "Epoch 262/500\n",
      "2/2 [==============================] - 0s 997us/step - loss: 0.3489 - acc: 0.8000\n",
      "Epoch 263/500\n",
      "2/2 [==============================] - 0s 998us/step - loss: 0.3487 - acc: 0.8000\n",
      "Epoch 264/500\n",
      "2/2 [==============================] - 0s 1ms/step - loss: 0.3484 - acc: 0.8000\n",
      "Epoch 265/500\n",
      "2/2 [==============================] - 0s 998us/step - loss: 0.3482 - acc: 0.8000\n",
      "Epoch 266/500\n",
      "2/2 [==============================] - 0s 998us/step - loss: 0.3480 - acc: 0.8000\n",
      "Epoch 267/500\n",
      "2/2 [==============================] - 0s 998us/step - loss: 0.3478 - acc: 0.8000\n",
      "Epoch 268/500\n",
      "2/2 [==============================] - 0s 1ms/step - loss: 0.3475 - acc: 0.8000\n",
      "Epoch 269/500\n",
      "2/2 [==============================] - 0s 1ms/step - loss: 0.3473 - acc: 0.8000\n",
      "Epoch 270/500\n",
      "2/2 [==============================] - 0s 998us/step - loss: 0.3471 - acc: 0.8000\n",
      "Epoch 271/500\n",
      "2/2 [==============================] - 0s 997us/step - loss: 0.3468 - acc: 0.8000\n",
      "Epoch 272/500\n",
      "2/2 [==============================] - 0s 998us/step - loss: 0.3466 - acc: 0.8000\n",
      "Epoch 273/500\n",
      "2/2 [==============================] - 0s 1ms/step - loss: 0.3464 - acc: 0.8000\n",
      "Epoch 274/500\n",
      "2/2 [==============================] - 0s 998us/step - loss: 0.3462 - acc: 0.8000\n",
      "Epoch 275/500\n",
      "2/2 [==============================] - 0s 998us/step - loss: 0.3459 - acc: 0.8000\n",
      "Epoch 276/500\n",
      "2/2 [==============================] - 0s 1ms/step - loss: 0.3457 - acc: 0.8000\n",
      "Epoch 277/500\n",
      "2/2 [==============================] - 0s 998us/step - loss: 0.3455 - acc: 0.8000\n",
      "Epoch 278/500\n",
      "2/2 [==============================] - 0s 998us/step - loss: 0.3453 - acc: 0.8000\n",
      "Epoch 279/500\n",
      "2/2 [==============================] - 0s 997us/step - loss: 0.3451 - acc: 0.8000\n",
      "Epoch 280/500\n",
      "2/2 [==============================] - 0s 998us/step - loss: 0.3448 - acc: 0.8000\n",
      "Epoch 281/500\n",
      "2/2 [==============================] - 0s 1ms/step - loss: 0.3446 - acc: 0.8000\n",
      "Epoch 282/500\n",
      "2/2 [==============================] - 0s 997us/step - loss: 0.3444 - acc: 0.8000\n",
      "Epoch 283/500\n",
      "2/2 [==============================] - 0s 1ms/step - loss: 0.3442 - acc: 0.8000\n",
      "Epoch 284/500\n",
      "2/2 [==============================] - 0s 997us/step - loss: 0.3440 - acc: 0.8000\n",
      "Epoch 285/500\n",
      "2/2 [==============================] - 0s 995us/step - loss: 0.3438 - acc: 0.8000\n",
      "Epoch 286/500\n",
      "2/2 [==============================] - 0s 1ms/step - loss: 0.3435 - acc: 0.8000\n",
      "Epoch 287/500\n",
      "2/2 [==============================] - 0s 998us/step - loss: 0.3433 - acc: 0.8000\n",
      "Epoch 288/500\n",
      "2/2 [==============================] - 0s 1ms/step - loss: 0.3431 - acc: 0.8000\n",
      "Epoch 289/500\n",
      "2/2 [==============================] - 0s 1ms/step - loss: 0.3429 - acc: 0.8000\n",
      "Epoch 290/500\n",
      "2/2 [==============================] - 0s 997us/step - loss: 0.3427 - acc: 0.8000\n",
      "Epoch 291/500\n",
      "2/2 [==============================] - 0s 1ms/step - loss: 0.3425 - acc: 0.8000\n",
      "Epoch 292/500\n",
      "2/2 [==============================] - 0s 1ms/step - loss: 0.3423 - acc: 0.8000\n",
      "Epoch 293/500\n",
      "2/2 [==============================] - 0s 994us/step - loss: 0.3421 - acc: 0.8000\n",
      "Epoch 294/500\n",
      "2/2 [==============================] - 0s 1ms/step - loss: 0.3419 - acc: 0.8000\n",
      "Epoch 295/500\n",
      "2/2 [==============================] - 0s 998us/step - loss: 0.3417 - acc: 0.8000\n",
      "Epoch 296/500\n",
      "2/2 [==============================] - 0s 1ms/step - loss: 0.3415 - acc: 0.8000\n",
      "Epoch 297/500\n",
      "2/2 [==============================] - 0s 998us/step - loss: 0.3413 - acc: 0.8000\n",
      "Epoch 298/500\n",
      "2/2 [==============================] - 0s 998us/step - loss: 0.3411 - acc: 0.8000\n",
      "Epoch 299/500\n",
      "2/2 [==============================] - 0s 997us/step - loss: 0.3409 - acc: 0.8000\n",
      "Epoch 300/500\n",
      "2/2 [==============================] - 0s 998us/step - loss: 0.3407 - acc: 0.8000\n",
      "Epoch 301/500\n",
      "2/2 [==============================] - 0s 1ms/step - loss: 0.3405 - acc: 0.8000\n",
      "Epoch 302/500\n",
      "2/2 [==============================] - 0s 998us/step - loss: 0.3403 - acc: 0.8000\n",
      "Epoch 303/500\n",
      "2/2 [==============================] - 0s 1ms/step - loss: 0.3401 - acc: 0.8000\n",
      "Epoch 304/500\n",
      "2/2 [==============================] - 0s 1ms/step - loss: 0.3399 - acc: 0.8000\n",
      "Epoch 305/500\n",
      "2/2 [==============================] - 0s 1ms/step - loss: 0.3397 - acc: 0.8000\n",
      "Epoch 306/500\n",
      "2/2 [==============================] - 0s 1ms/step - loss: 0.3395 - acc: 0.8000\n",
      "Epoch 307/500\n",
      "2/2 [==============================] - 0s 1ms/step - loss: 0.3393 - acc: 0.8000\n",
      "Epoch 308/500\n",
      "2/2 [==============================] - 0s 997us/step - loss: 0.3391 - acc: 0.8000\n",
      "Epoch 309/500\n",
      "2/2 [==============================] - 0s 1ms/step - loss: 0.3389 - acc: 0.8000\n",
      "Epoch 310/500\n",
      "2/2 [==============================] - 0s 1ms/step - loss: 0.3387 - acc: 0.8000\n",
      "Epoch 311/500\n",
      "2/2 [==============================] - 0s 1ms/step - loss: 0.3385 - acc: 0.8000\n",
      "Epoch 312/500\n",
      "2/2 [==============================] - 0s 998us/step - loss: 0.3383 - acc: 0.8000\n",
      "Epoch 313/500\n",
      "2/2 [==============================] - 0s 997us/step - loss: 0.3381 - acc: 0.8000\n",
      "Epoch 314/500\n",
      "2/2 [==============================] - 0s 997us/step - loss: 0.3380 - acc: 0.8000\n",
      "Epoch 315/500\n",
      "2/2 [==============================] - 0s 1ms/step - loss: 0.3378 - acc: 0.8000\n",
      "Epoch 316/500\n",
      "2/2 [==============================] - 0s 998us/step - loss: 0.3376 - acc: 0.8000\n",
      "Epoch 317/500\n",
      "2/2 [==============================] - 0s 1ms/step - loss: 0.3374 - acc: 0.8000\n",
      "Epoch 318/500\n",
      "2/2 [==============================] - 0s 997us/step - loss: 0.3372 - acc: 0.8000\n",
      "Epoch 319/500\n",
      "2/2 [==============================] - 0s 997us/step - loss: 0.3370 - acc: 0.8000\n",
      "Epoch 320/500\n",
      "2/2 [==============================] - 0s 997us/step - loss: 0.3368 - acc: 0.8000\n",
      "Epoch 321/500\n",
      "2/2 [==============================] - 0s 1ms/step - loss: 0.3367 - acc: 0.8000\n",
      "Epoch 322/500\n",
      "2/2 [==============================] - 0s 1ms/step - loss: 0.3365 - acc: 0.8000\n",
      "Epoch 323/500\n",
      "2/2 [==============================] - 0s 1ms/step - loss: 0.3363 - acc: 0.8000\n",
      "Epoch 324/500\n",
      "2/2 [==============================] - 0s 997us/step - loss: 0.3361 - acc: 0.8000\n",
      "Epoch 325/500\n",
      "2/2 [==============================] - 0s 997us/step - loss: 0.3359 - acc: 0.8000\n",
      "Epoch 326/500\n",
      "2/2 [==============================] - 0s 1ms/step - loss: 0.3358 - acc: 0.8000\n",
      "Epoch 327/500\n",
      "2/2 [==============================] - 0s 1ms/step - loss: 0.3356 - acc: 0.8000\n",
      "Epoch 328/500\n",
      "2/2 [==============================] - 0s 2ms/step - loss: 0.3354 - acc: 0.8000\n",
      "Epoch 329/500\n",
      "2/2 [==============================] - 0s 998us/step - loss: 0.3352 - acc: 0.8000\n",
      "Epoch 330/500\n",
      "2/2 [==============================] - 0s 998us/step - loss: 0.3351 - acc: 0.8000\n",
      "Epoch 331/500\n",
      "2/2 [==============================] - 0s 998us/step - loss: 0.3349 - acc: 0.8000\n",
      "Epoch 332/500\n",
      "2/2 [==============================] - 0s 997us/step - loss: 0.3347 - acc: 0.8000\n",
      "Epoch 333/500\n",
      "2/2 [==============================] - 0s 997us/step - loss: 0.3345 - acc: 0.8000\n",
      "Epoch 334/500\n",
      "2/2 [==============================] - 0s 997us/step - loss: 0.3344 - acc: 0.8000\n",
      "Epoch 335/500\n",
      "2/2 [==============================] - 0s 1ms/step - loss: 0.3342 - acc: 0.8000\n",
      "Epoch 336/500\n",
      "2/2 [==============================] - 0s 996us/step - loss: 0.3340 - acc: 0.8000\n",
      "Epoch 337/500\n",
      "2/2 [==============================] - 0s 998us/step - loss: 0.3338 - acc: 0.8000\n",
      "Epoch 338/500\n",
      "2/2 [==============================] - 0s 997us/step - loss: 0.3337 - acc: 0.8000\n",
      "Epoch 339/500\n",
      "2/2 [==============================] - 0s 1ms/step - loss: 0.3335 - acc: 0.8000\n",
      "Epoch 340/500\n",
      "2/2 [==============================] - 0s 998us/step - loss: 0.3333 - acc: 0.8000\n",
      "Epoch 341/500\n",
      "2/2 [==============================] - 0s 991us/step - loss: 0.3332 - acc: 0.8000\n",
      "Epoch 342/500\n",
      "2/2 [==============================] - 0s 1ms/step - loss: 0.3330 - acc: 0.8000\n",
      "Epoch 343/500\n",
      "2/2 [==============================] - 0s 1ms/step - loss: 0.3328 - acc: 0.8000\n",
      "Epoch 344/500\n",
      "2/2 [==============================] - 0s 1ms/step - loss: 0.3327 - acc: 0.8000\n",
      "Epoch 345/500\n",
      "2/2 [==============================] - 0s 997us/step - loss: 0.3325 - acc: 0.8000\n"
     ]
    },
    {
     "name": "stdout",
     "output_type": "stream",
     "text": [
      "Epoch 346/500\n",
      "2/2 [==============================] - 0s 1ms/step - loss: 0.3323 - acc: 0.8000\n",
      "Epoch 347/500\n",
      "2/2 [==============================] - 0s 998us/step - loss: 0.3322 - acc: 0.8000\n",
      "Epoch 348/500\n",
      "2/2 [==============================] - 0s 2ms/step - loss: 0.3320 - acc: 0.8000\n",
      "Epoch 349/500\n",
      "2/2 [==============================] - 0s 998us/step - loss: 0.3319 - acc: 0.8000\n",
      "Epoch 350/500\n",
      "2/2 [==============================] - 0s 998us/step - loss: 0.3317 - acc: 0.8000\n",
      "Epoch 351/500\n",
      "2/2 [==============================] - 0s 998us/step - loss: 0.3315 - acc: 0.8000\n",
      "Epoch 352/500\n",
      "2/2 [==============================] - 0s 997us/step - loss: 0.3314 - acc: 0.8000\n",
      "Epoch 353/500\n",
      "2/2 [==============================] - 0s 997us/step - loss: 0.3312 - acc: 0.8000\n",
      "Epoch 354/500\n",
      "2/2 [==============================] - 0s 998us/step - loss: 0.3311 - acc: 0.8000\n",
      "Epoch 355/500\n",
      "2/2 [==============================] - 0s 1ms/step - loss: 0.3309 - acc: 0.8000\n",
      "Epoch 356/500\n",
      "2/2 [==============================] - 0s 1ms/step - loss: 0.3307 - acc: 0.8000\n",
      "Epoch 357/500\n",
      "2/2 [==============================] - 0s 998us/step - loss: 0.3306 - acc: 0.8000\n",
      "Epoch 358/500\n",
      "2/2 [==============================] - 0s 998us/step - loss: 0.3304 - acc: 0.8000\n",
      "Epoch 359/500\n",
      "2/2 [==============================] - 0s 998us/step - loss: 0.3303 - acc: 0.8000\n",
      "Epoch 360/500\n",
      "2/2 [==============================] - 0s 998us/step - loss: 0.3301 - acc: 0.8000\n",
      "Epoch 361/500\n",
      "2/2 [==============================] - 0s 998us/step - loss: 0.3300 - acc: 0.8000\n",
      "Epoch 362/500\n",
      "2/2 [==============================] - 0s 998us/step - loss: 0.3298 - acc: 0.8000\n",
      "Epoch 363/500\n",
      "2/2 [==============================] - 0s 998us/step - loss: 0.3297 - acc: 0.8000\n",
      "Epoch 364/500\n",
      "2/2 [==============================] - 0s 2ms/step - loss: 0.3295 - acc: 0.8000\n",
      "Epoch 365/500\n",
      "2/2 [==============================] - 0s 998us/step - loss: 0.3294 - acc: 0.8000\n",
      "Epoch 366/500\n",
      "2/2 [==============================] - 0s 1ms/step - loss: 0.3292 - acc: 0.8000\n",
      "Epoch 367/500\n",
      "2/2 [==============================] - 0s 997us/step - loss: 0.3291 - acc: 0.8000\n",
      "Epoch 368/500\n",
      "2/2 [==============================] - 0s 1ms/step - loss: 0.3289 - acc: 0.8000\n",
      "Epoch 369/500\n",
      "2/2 [==============================] - 0s 998us/step - loss: 0.3288 - acc: 0.8000\n",
      "Epoch 370/500\n",
      "2/2 [==============================] - 0s 997us/step - loss: 0.3286 - acc: 0.8000\n",
      "Epoch 371/500\n",
      "2/2 [==============================] - 0s 997us/step - loss: 0.3285 - acc: 0.8000\n",
      "Epoch 372/500\n",
      "2/2 [==============================] - 0s 1ms/step - loss: 0.3283 - acc: 0.8000\n",
      "Epoch 373/500\n",
      "2/2 [==============================] - 0s 997us/step - loss: 0.3282 - acc: 0.8000\n",
      "Epoch 374/500\n",
      "2/2 [==============================] - 0s 997us/step - loss: 0.3280 - acc: 0.8000\n",
      "Epoch 375/500\n",
      "2/2 [==============================] - 0s 1ms/step - loss: 0.3279 - acc: 0.8000\n",
      "Epoch 376/500\n",
      "2/2 [==============================] - 0s 997us/step - loss: 0.3277 - acc: 0.8000\n",
      "Epoch 377/500\n",
      "2/2 [==============================] - 0s 2ms/step - loss: 0.3276 - acc: 0.8000\n",
      "Epoch 378/500\n",
      "2/2 [==============================] - 0s 1ms/step - loss: 0.3274 - acc: 0.8000\n",
      "Epoch 379/500\n",
      "2/2 [==============================] - 0s 997us/step - loss: 0.3273 - acc: 0.8000\n",
      "Epoch 380/500\n",
      "2/2 [==============================] - 0s 998us/step - loss: 0.3272 - acc: 0.8000\n",
      "Epoch 381/500\n",
      "2/2 [==============================] - 0s 997us/step - loss: 0.3270 - acc: 0.8000\n",
      "Epoch 382/500\n",
      "2/2 [==============================] - 0s 998us/step - loss: 0.3269 - acc: 0.8000\n",
      "Epoch 383/500\n",
      "2/2 [==============================] - 0s 997us/step - loss: 0.3267 - acc: 0.8000\n",
      "Epoch 384/500\n",
      "2/2 [==============================] - 0s 1ms/step - loss: 0.3266 - acc: 0.8000\n",
      "Epoch 385/500\n",
      "2/2 [==============================] - 0s 1ms/step - loss: 0.3264 - acc: 0.8000\n",
      "Epoch 386/500\n",
      "2/2 [==============================] - 0s 997us/step - loss: 0.3263 - acc: 0.8000\n",
      "Epoch 387/500\n",
      "2/2 [==============================] - 0s 3ms/step - loss: 0.3262 - acc: 0.8000\n",
      "Epoch 388/500\n",
      "2/2 [==============================] - 0s 1ms/step - loss: 0.3260 - acc: 0.8000\n",
      "Epoch 389/500\n",
      "2/2 [==============================] - 0s 997us/step - loss: 0.3259 - acc: 0.8000\n",
      "Epoch 390/500\n",
      "2/2 [==============================] - 0s 1ms/step - loss: 0.3258 - acc: 0.8000\n",
      "Epoch 391/500\n",
      "2/2 [==============================] - 0s 998us/step - loss: 0.3256 - acc: 0.8000\n",
      "Epoch 392/500\n",
      "2/2 [==============================] - 0s 1ms/step - loss: 0.3255 - acc: 0.8000\n",
      "Epoch 393/500\n",
      "2/2 [==============================] - 0s 997us/step - loss: 0.3253 - acc: 0.8000\n",
      "Epoch 394/500\n",
      "2/2 [==============================] - 0s 1ms/step - loss: 0.3252 - acc: 0.8000\n",
      "Epoch 395/500\n",
      "2/2 [==============================] - 0s 998us/step - loss: 0.3251 - acc: 0.8000\n",
      "Epoch 396/500\n",
      "2/2 [==============================] - 0s 1ms/step - loss: 0.3249 - acc: 0.8000\n",
      "Epoch 397/500\n",
      "2/2 [==============================] - 0s 997us/step - loss: 0.3248 - acc: 0.8000\n",
      "Epoch 398/500\n",
      "2/2 [==============================] - 0s 1ms/step - loss: 0.3247 - acc: 0.8000\n",
      "Epoch 399/500\n",
      "2/2 [==============================] - 0s 1ms/step - loss: 0.3245 - acc: 0.8000\n",
      "Epoch 400/500\n",
      "2/2 [==============================] - 0s 997us/step - loss: 0.3244 - acc: 0.8000\n",
      "Epoch 401/500\n",
      "2/2 [==============================] - 0s 1ms/step - loss: 0.3243 - acc: 0.8000\n",
      "Epoch 402/500\n",
      "2/2 [==============================] - 0s 997us/step - loss: 0.3242 - acc: 0.8000\n",
      "Epoch 403/500\n",
      "2/2 [==============================] - 0s 1ms/step - loss: 0.3240 - acc: 0.8000\n",
      "Epoch 404/500\n",
      "2/2 [==============================] - 0s 1ms/step - loss: 0.3239 - acc: 0.8000\n",
      "Epoch 405/500\n",
      "2/2 [==============================] - 0s 1ms/step - loss: 0.3238 - acc: 0.8000\n",
      "Epoch 406/500\n",
      "2/2 [==============================] - 0s 1ms/step - loss: 0.3236 - acc: 0.8000\n",
      "Epoch 407/500\n",
      "2/2 [==============================] - 0s 1ms/step - loss: 0.3235 - acc: 0.8000\n",
      "Epoch 408/500\n",
      "2/2 [==============================] - 0s 998us/step - loss: 0.3234 - acc: 0.8000\n",
      "Epoch 409/500\n",
      "2/2 [==============================] - 0s 1ms/step - loss: 0.3232 - acc: 0.8000\n",
      "Epoch 410/500\n",
      "2/2 [==============================] - 0s 1ms/step - loss: 0.3231 - acc: 0.8000\n",
      "Epoch 411/500\n",
      "2/2 [==============================] - 0s 1ms/step - loss: 0.3230 - acc: 0.8000\n",
      "Epoch 412/500\n",
      "2/2 [==============================] - 0s 1ms/step - loss: 0.3229 - acc: 0.8000\n",
      "Epoch 413/500\n",
      "2/2 [==============================] - 0s 1ms/step - loss: 0.3227 - acc: 0.8000\n",
      "Epoch 414/500\n",
      "2/2 [==============================] - 0s 1ms/step - loss: 0.3226 - acc: 0.8000\n",
      "Epoch 415/500\n",
      "2/2 [==============================] - 0s 997us/step - loss: 0.3225 - acc: 0.8000\n",
      "Epoch 416/500\n",
      "2/2 [==============================] - 0s 998us/step - loss: 0.3224 - acc: 0.8000\n",
      "Epoch 417/500\n",
      "2/2 [==============================] - 0s 997us/step - loss: 0.3222 - acc: 0.8000\n",
      "Epoch 418/500\n",
      "2/2 [==============================] - 0s 1ms/step - loss: 0.3221 - acc: 0.8000\n",
      "Epoch 419/500\n",
      "2/2 [==============================] - 0s 1ms/step - loss: 0.3220 - acc: 0.8000\n",
      "Epoch 420/500\n",
      "2/2 [==============================] - 0s 1ms/step - loss: 0.3219 - acc: 0.8000\n",
      "Epoch 421/500\n",
      "2/2 [==============================] - 0s 1ms/step - loss: 0.3218 - acc: 0.8000\n",
      "Epoch 422/500\n",
      "2/2 [==============================] - 0s 1ms/step - loss: 0.3216 - acc: 0.8000\n",
      "Epoch 423/500\n",
      "2/2 [==============================] - 0s 998us/step - loss: 0.3215 - acc: 0.8000\n",
      "Epoch 424/500\n",
      "2/2 [==============================] - 0s 998us/step - loss: 0.3214 - acc: 0.8000\n",
      "Epoch 425/500\n",
      "2/2 [==============================] - 0s 997us/step - loss: 0.3213 - acc: 0.8000\n",
      "Epoch 426/500\n",
      "2/2 [==============================] - 0s 998us/step - loss: 0.3212 - acc: 0.8000\n",
      "Epoch 427/500\n",
      "2/2 [==============================] - 0s 1ms/step - loss: 0.3210 - acc: 0.8000\n",
      "Epoch 428/500\n",
      "2/2 [==============================] - 0s 997us/step - loss: 0.3209 - acc: 0.8000\n",
      "Epoch 429/500\n",
      "2/2 [==============================] - 0s 998us/step - loss: 0.3208 - acc: 0.8000\n",
      "Epoch 430/500\n",
      "2/2 [==============================] - 0s 1ms/step - loss: 0.3207 - acc: 0.8000\n",
      "Epoch 431/500\n",
      "2/2 [==============================] - 0s 995us/step - loss: 0.3206 - acc: 0.8000\n",
      "Epoch 432/500\n",
      "2/2 [==============================] - 0s 997us/step - loss: 0.3205 - acc: 0.8000\n"
     ]
    },
    {
     "name": "stdout",
     "output_type": "stream",
     "text": [
      "Epoch 433/500\n",
      "2/2 [==============================] - 0s 997us/step - loss: 0.3203 - acc: 0.8000\n",
      "Epoch 434/500\n",
      "2/2 [==============================] - 0s 998us/step - loss: 0.3202 - acc: 0.8000\n",
      "Epoch 435/500\n",
      "2/2 [==============================] - 0s 1ms/step - loss: 0.3201 - acc: 0.8000\n",
      "Epoch 436/500\n",
      "2/2 [==============================] - 0s 1ms/step - loss: 0.3200 - acc: 0.8000\n",
      "Epoch 437/500\n",
      "2/2 [==============================] - 0s 1ms/step - loss: 0.3199 - acc: 0.8000\n",
      "Epoch 438/500\n",
      "2/2 [==============================] - 0s 1ms/step - loss: 0.3198 - acc: 0.8000\n",
      "Epoch 439/500\n",
      "2/2 [==============================] - 0s 998us/step - loss: 0.3197 - acc: 0.8000\n",
      "Epoch 440/500\n",
      "2/2 [==============================] - 0s 997us/step - loss: 0.3195 - acc: 0.8000\n",
      "Epoch 441/500\n",
      "2/2 [==============================] - 0s 998us/step - loss: 0.3194 - acc: 0.8000\n",
      "Epoch 442/500\n",
      "2/2 [==============================] - 0s 1ms/step - loss: 0.3193 - acc: 0.8000\n",
      "Epoch 443/500\n",
      "2/2 [==============================] - 0s 998us/step - loss: 0.3192 - acc: 0.8000\n",
      "Epoch 444/500\n",
      "2/2 [==============================] - 0s 998us/step - loss: 0.3191 - acc: 0.8000\n",
      "Epoch 445/500\n",
      "2/2 [==============================] - 0s 997us/step - loss: 0.3190 - acc: 0.8000\n",
      "Epoch 446/500\n",
      "2/2 [==============================] - 0s 1ms/step - loss: 0.3189 - acc: 0.8000\n",
      "Epoch 447/500\n",
      "2/2 [==============================] - 0s 998us/step - loss: 0.3188 - acc: 0.8000\n",
      "Epoch 448/500\n",
      "2/2 [==============================] - 0s 1ms/step - loss: 0.3186 - acc: 0.8000\n",
      "Epoch 449/500\n",
      "2/2 [==============================] - 0s 1ms/step - loss: 0.3185 - acc: 0.8000\n",
      "Epoch 450/500\n",
      "2/2 [==============================] - 0s 998us/step - loss: 0.3184 - acc: 0.8000\n",
      "Epoch 451/500\n",
      "2/2 [==============================] - 0s 1ms/step - loss: 0.3183 - acc: 0.8000\n",
      "Epoch 452/500\n",
      "2/2 [==============================] - 0s 998us/step - loss: 0.3182 - acc: 0.8000\n",
      "Epoch 453/500\n",
      "2/2 [==============================] - 0s 1ms/step - loss: 0.3181 - acc: 0.8000\n",
      "Epoch 454/500\n",
      "2/2 [==============================] - 0s 1ms/step - loss: 0.3180 - acc: 0.8000\n",
      "Epoch 455/500\n",
      "2/2 [==============================] - 0s 998us/step - loss: 0.3179 - acc: 0.8000\n",
      "Epoch 456/500\n",
      "2/2 [==============================] - 0s 998us/step - loss: 0.3178 - acc: 0.8000\n",
      "Epoch 457/500\n",
      "2/2 [==============================] - 0s 998us/step - loss: 0.3177 - acc: 0.8000\n",
      "Epoch 458/500\n",
      "2/2 [==============================] - 0s 1ms/step - loss: 0.3176 - acc: 0.8000\n",
      "Epoch 459/500\n",
      "2/2 [==============================] - 0s 1ms/step - loss: 0.3175 - acc: 0.8000\n",
      "Epoch 460/500\n",
      "2/2 [==============================] - 0s 998us/step - loss: 0.3174 - acc: 0.8000\n",
      "Epoch 461/500\n",
      "2/2 [==============================] - 0s 998us/step - loss: 0.3173 - acc: 0.8000\n",
      "Epoch 462/500\n",
      "2/2 [==============================] - 0s 997us/step - loss: 0.3172 - acc: 0.8000\n",
      "Epoch 463/500\n",
      "2/2 [==============================] - 0s 998us/step - loss: 0.3171 - acc: 0.8000\n",
      "Epoch 464/500\n",
      "2/2 [==============================] - 0s 994us/step - loss: 0.3169 - acc: 0.8000\n",
      "Epoch 465/500\n",
      "2/2 [==============================] - 0s 2ms/step - loss: 0.3168 - acc: 0.8000\n",
      "Epoch 466/500\n",
      "2/2 [==============================] - 0s 1ms/step - loss: 0.3167 - acc: 0.8000\n",
      "Epoch 467/500\n",
      "2/2 [==============================] - 0s 1ms/step - loss: 0.3166 - acc: 0.8000\n",
      "Epoch 468/500\n",
      "2/2 [==============================] - 0s 1ms/step - loss: 0.3165 - acc: 0.8000\n",
      "Epoch 469/500\n",
      "2/2 [==============================] - 0s 999us/step - loss: 0.3164 - acc: 0.8000\n",
      "Epoch 470/500\n",
      "2/2 [==============================] - 0s 1ms/step - loss: 0.3163 - acc: 0.8000\n",
      "Epoch 471/500\n",
      "2/2 [==============================] - 0s 998us/step - loss: 0.3162 - acc: 0.8000\n",
      "Epoch 472/500\n",
      "2/2 [==============================] - 0s 998us/step - loss: 0.3161 - acc: 0.8000\n",
      "Epoch 473/500\n",
      "2/2 [==============================] - 0s 998us/step - loss: 0.3160 - acc: 0.8000\n",
      "Epoch 474/500\n",
      "2/2 [==============================] - 0s 1ms/step - loss: 0.3159 - acc: 0.8000\n",
      "Epoch 475/500\n",
      "2/2 [==============================] - 0s 1ms/step - loss: 0.3158 - acc: 0.8000\n",
      "Epoch 476/500\n",
      "2/2 [==============================] - 0s 998us/step - loss: 0.3157 - acc: 0.8000\n",
      "Epoch 477/500\n",
      "2/2 [==============================] - 0s 1ms/step - loss: 0.3156 - acc: 0.8000\n",
      "Epoch 478/500\n",
      "2/2 [==============================] - 0s 1ms/step - loss: 0.3155 - acc: 0.8000\n",
      "Epoch 479/500\n",
      "2/2 [==============================] - 0s 997us/step - loss: 0.3154 - acc: 0.8000\n",
      "Epoch 480/500\n",
      "2/2 [==============================] - 0s 998us/step - loss: 0.3153 - acc: 0.8000\n",
      "Epoch 481/500\n",
      "2/2 [==============================] - 0s 1ms/step - loss: 0.3153 - acc: 0.8000\n",
      "Epoch 482/500\n",
      "2/2 [==============================] - 0s 1ms/step - loss: 0.3152 - acc: 0.8000\n",
      "Epoch 483/500\n",
      "2/2 [==============================] - 0s 1ms/step - loss: 0.3151 - acc: 0.8000\n",
      "Epoch 484/500\n",
      "2/2 [==============================] - 0s 998us/step - loss: 0.3150 - acc: 0.8000\n",
      "Epoch 485/500\n",
      "2/2 [==============================] - 0s 997us/step - loss: 0.3149 - acc: 0.8000\n",
      "Epoch 486/500\n",
      "2/2 [==============================] - 0s 991us/step - loss: 0.3148 - acc: 0.8000\n",
      "Epoch 487/500\n",
      "2/2 [==============================] - 0s 997us/step - loss: 0.3147 - acc: 0.8000\n",
      "Epoch 488/500\n",
      "2/2 [==============================] - 0s 998us/step - loss: 0.3146 - acc: 0.8000\n",
      "Epoch 489/500\n",
      "2/2 [==============================] - 0s 998us/step - loss: 0.3145 - acc: 0.8000\n",
      "Epoch 490/500\n",
      "2/2 [==============================] - 0s 1ms/step - loss: 0.3144 - acc: 0.8000\n",
      "Epoch 491/500\n",
      "2/2 [==============================] - 0s 1ms/step - loss: 0.3143 - acc: 0.8000\n",
      "Epoch 492/500\n",
      "2/2 [==============================] - 0s 998us/step - loss: 0.3142 - acc: 0.8000\n",
      "Epoch 493/500\n",
      "2/2 [==============================] - 0s 993us/step - loss: 0.3141 - acc: 0.8000\n",
      "Epoch 494/500\n",
      "2/2 [==============================] - 0s 998us/step - loss: 0.3140 - acc: 0.8000\n",
      "Epoch 495/500\n",
      "2/2 [==============================] - 0s 997us/step - loss: 0.3139 - acc: 0.8000\n",
      "Epoch 496/500\n",
      "2/2 [==============================] - 0s 998us/step - loss: 0.3138 - acc: 0.8000\n",
      "Epoch 497/500\n",
      "2/2 [==============================] - 0s 998us/step - loss: 0.3137 - acc: 0.8000\n",
      "Epoch 498/500\n",
      "2/2 [==============================] - 0s 1ms/step - loss: 0.3137 - acc: 0.8000\n",
      "Epoch 499/500\n",
      "2/2 [==============================] - 0s 1ms/step - loss: 0.3136 - acc: 0.8000\n",
      "Epoch 500/500\n",
      "2/2 [==============================] - 0s 1ms/step - loss: 0.3135 - acc: 0.8000\n"
     ]
    },
    {
     "data": {
      "text/plain": [
       "<keras.callbacks.History at 0x150c4dca0b8>"
      ]
     },
     "execution_count": 13,
     "metadata": {},
     "output_type": "execute_result"
    }
   ],
   "source": [
    "model.fit(padded_docs.reshape(2,2,1),np.array(one_hot_encoded_labels),epochs=500)"
   ]
  },
  {
   "cell_type": "markdown",
   "metadata": {},
   "source": [
    "Extract prediction on the first input data point."
   ]
  },
  {
   "cell_type": "code",
   "execution_count": 14,
   "metadata": {},
   "outputs": [
    {
     "data": {
      "text/plain": [
       "array([[0.06413898, 0.04268872, 0.38673618, 0.05115727, 0.4552788 ]],\n",
       "      dtype=float32)"
      ]
     },
     "execution_count": 14,
     "metadata": {},
     "output_type": "execute_result"
    }
   ],
   "source": [
    "model.predict(padded_docs[0].reshape(1,2,1))"
   ]
  },
  {
   "cell_type": "markdown",
   "metadata": {},
   "source": [
    "Inspect the weights."
   ]
  },
  {
   "cell_type": "code",
   "execution_count": 15,
   "metadata": {},
   "outputs": [
    {
     "data": {
      "text/plain": [
       "[<tf.Variable 'lstm_1/kernel:0' shape=(1, 4) dtype=float32_ref>,\n",
       " <tf.Variable 'lstm_1/recurrent_kernel:0' shape=(1, 4) dtype=float32_ref>,\n",
       " <tf.Variable 'lstm_1/bias:0' shape=(4,) dtype=float32_ref>,\n",
       " <tf.Variable 'dense_1/kernel:0' shape=(1, 5) dtype=float32_ref>,\n",
       " <tf.Variable 'dense_1/bias:0' shape=(5,) dtype=float32_ref>]"
      ]
     },
     "execution_count": 15,
     "metadata": {},
     "output_type": "execute_result"
    }
   ],
   "source": [
    "model.weights"
   ]
  },
  {
   "cell_type": "markdown",
   "metadata": {},
   "source": [
    "The above weights gives us an intuition of the order in which weights are presented in the output.\n",
    "\n",
    "* The kernel represents the weights and recurrent represents the connection of the hidden layer from one step to another.\n",
    "\n",
    "* A LSTM has weights that connect the input to the hidden layer and also weights that connect the previous time step's hidden layer to the current time step's hidden layer.\n",
    "\n",
    "* The kernel and bias in the dense_1 layer represent the layer that connects the hidden layer value to the final output"
   ]
  },
  {
   "cell_type": "markdown",
   "metadata": {},
   "source": [
    "The following line of code gives us the computed values of each of the weights."
   ]
  },
  {
   "cell_type": "code",
   "execution_count": 16,
   "metadata": {},
   "outputs": [
    {
     "data": {
      "text/plain": [
       "[array([[0.5866583 , 0.46882355, 0.5307267 , 1.1682754 ]], dtype=float32),\n",
       " array([[0.44634107, 0.37472215, 0.31417692, 0.41816187]], dtype=float32),\n",
       " array([0.3832207 , 1.3373766 , 0.29879212, 0.38187584], dtype=float32),\n",
       " array([[-0.55315286, -1.1231616 ,  0.7899263 , -0.8698494 ,  1.1733266 ]],\n",
       "       dtype=float32),\n",
       " array([-0.3702354 , -0.34576902,  0.40953848, -0.35659516,  0.28241307],\n",
       "       dtype=float32)]"
      ]
     },
     "execution_count": 16,
     "metadata": {},
     "output_type": "execute_result"
    }
   ],
   "source": [
    "model.get_weights()"
   ]
  },
  {
   "cell_type": "markdown",
   "metadata": {},
   "source": [
    "Update the forget gate in time step 1. This step looks at the input and then provides an estimate of how much of the cell state (memory) known so far is to be forgotten (note the usage of the sigmoid function)."
   ]
  },
  {
   "cell_type": "code",
   "execution_count": 17,
   "metadata": {},
   "outputs": [],
   "source": [
    "input_t0 = 3\n",
    "cell_state0 = 0\n",
    "forget0 = input_t0*model.get_weights()[0][0][1] + model.get_weights()[2][1]\n",
    "forget1 = 1/(1+np.exp(-(forget0)))"
   ]
  },
  {
   "cell_type": "markdown",
   "metadata": {},
   "source": [
    "Update the cell state based on the updated forget gate. The output of the previous step is being used here to direct the amount of values to be forgotten from the cell state (memory)."
   ]
  },
  {
   "cell_type": "code",
   "execution_count": 18,
   "metadata": {},
   "outputs": [],
   "source": [
    "cell_state1 = forget1 * cell_state0"
   ]
  },
  {
   "cell_type": "markdown",
   "metadata": {},
   "source": [
    "Update the input gate value in time step 1. This step gives an estimate of how much new information is to be injected into the cell state based on the current input."
   ]
  },
  {
   "cell_type": "code",
   "execution_count": 19,
   "metadata": {},
   "outputs": [],
   "source": [
    "input_t0_1 = input_t0*model.get_weights()[0][0][0] + model.get_weights()[2][0]\n",
    "input_t0_2 = 1/(1+np.exp(-(input_t0_1)))"
   ]
  },
  {
   "cell_type": "markdown",
   "metadata": {},
   "source": [
    "Update the cell state based on the updated input value. This is the step where the output from the previous step is being used to dictate the amount of information update that is to happen to cell state (memory)."
   ]
  },
  {
   "cell_type": "code",
   "execution_count": 20,
   "metadata": {},
   "outputs": [],
   "source": [
    "input_t0_cell1 = input_t0*model.get_weights()[0][0][2] + model.get_weights()[2][2]\n",
    "input_t0_cell2 = np.tanh(input_t0_cell1)"
   ]
  },
  {
   "cell_type": "markdown",
   "metadata": {},
   "source": [
    "* The preceding tanh activation helps to determine whether the update from the input will add to or subtract from the cell state (memory). This provides an additional lever, as, if certain information is already conveyed in the current time step and is not useful in future time steps, we are better off wiping it off from the cell state so that this extra information (which might not be helpful in the next step) is wiped from memory"
   ]
  },
  {
   "cell_type": "code",
   "execution_count": 21,
   "metadata": {},
   "outputs": [],
   "source": [
    "input_t0_cell3 = input_t0_cell2*input_t0_2\n",
    "input_t0_cell4 = input_t0_cell3 + cell_state1"
   ]
  },
  {
   "cell_type": "markdown",
   "metadata": {},
   "source": [
    "Update the output gate. This step provides an estimate of how much information will be conveyed in the current time step (note the usage of the sigmoid function in this regard)."
   ]
  },
  {
   "cell_type": "code",
   "execution_count": 22,
   "metadata": {},
   "outputs": [],
   "source": [
    "output_t0_1 = input_t0*model.get_weights()[0][0][3] + model.get_weights()[2][3]\n",
    "output_t0_2 = 1/(1+np.exp(-output_t0_1))"
   ]
  },
  {
   "cell_type": "markdown",
   "metadata": {},
   "source": [
    "Calculate the hidden layer value at time step 1. Note that the final hidden-layer value at a time step is a combination of how much memory and output in the current time step is used to convey for a single time step."
   ]
  },
  {
   "cell_type": "code",
   "execution_count": 23,
   "metadata": {},
   "outputs": [],
   "source": [
    "hidden_layer_1 = np.tanh(input_t0_cell4)*output_t0_2"
   ]
  },
  {
   "cell_type": "markdown",
   "metadata": {},
   "source": [
    "* We are done calculating the hidden layer value output from the first time step. In the next steps, we will pass the updated cell state value from time step 1 and the output of the hidden layer value from time step 1 as inputs to time step 2"
   ]
  },
  {
   "cell_type": "markdown",
   "metadata": {},
   "source": [
    "Pass the input value at time step 2 and the cell state value going into time step 2"
   ]
  },
  {
   "cell_type": "code",
   "execution_count": 24,
   "metadata": {},
   "outputs": [],
   "source": [
    "input_t1 = 1\n",
    "cell_state1 = input_t0_cell4"
   ]
  },
  {
   "cell_type": "markdown",
   "metadata": {},
   "source": [
    "Update the forget gate value"
   ]
  },
  {
   "cell_type": "code",
   "execution_count": 25,
   "metadata": {},
   "outputs": [],
   "source": [
    "forget21 = hidden_layer_1*model.get_weights()[1][0][1] + model.get_weights()[2][1] + input_t1*model.get_weights()[0][0][1]\n",
    "forget_22 = 1/(1+np.exp(-(forget21)))"
   ]
  },
  {
   "cell_type": "markdown",
   "metadata": {},
   "source": [
    "Update the cell state value in time step 2"
   ]
  },
  {
   "cell_type": "code",
   "execution_count": 26,
   "metadata": {},
   "outputs": [],
   "source": [
    "cell_state2 = cell_state1 * forget_22\n",
    "input_t1_1 = input_t1*model.get_weights()[0][0][0] + model.get_weights()[2][0] + hidden_layer_1*model.get_weights()[1][0][0]\n",
    "input_t1_2 = 1/(1+np.exp(-(input_t1_1)))\n",
    "input_t1_cell1 = input_t1*model.get_weights()[0][0][2] + model.get_weights()[2][2]+ hidden_layer_1*model.get_weights()[1][0][2]\n",
    "input_t1_cell2 = np.tanh(input_t1_cell1)\n",
    "input_t1_cell3 = input_t1_cell2*input_t1_2\n",
    "input_t1_cell4 = input_t1_cell3 + cell_state2"
   ]
  },
  {
   "cell_type": "markdown",
   "metadata": {},
   "source": [
    "Update the hidden layer output value based on the combination of updated cell state and the magnitude of output that is to be made."
   ]
  },
  {
   "cell_type": "code",
   "execution_count": 27,
   "metadata": {},
   "outputs": [],
   "source": [
    "output_t1_1 = input_t1*model.get_weights()[0][0][3] + model.get_weights()[2][3]+ hidden_layer_1*model.get_weights()[1][0][3]\n",
    "output_t1_2 = 1/(1+np.exp(-output_t1_1))\n",
    "hidden_layer_2 = np.tanh(input_t1_cell4)*output_t1_2"
   ]
  },
  {
   "cell_type": "markdown",
   "metadata": {},
   "source": [
    "Pass the hidden layer output through the dense layer."
   ]
  },
  {
   "cell_type": "code",
   "execution_count": 28,
   "metadata": {},
   "outputs": [],
   "source": [
    "final_output = hidden_layer_2 * model.get_weights()[3][0] + model.get_weights()[4]"
   ]
  },
  {
   "cell_type": "markdown",
   "metadata": {},
   "source": [
    "Run softmax on top of the output we just obtained."
   ]
  },
  {
   "cell_type": "code",
   "execution_count": 29,
   "metadata": {},
   "outputs": [
    {
     "data": {
      "text/plain": [
       "array([0.06413898, 0.04268872, 0.38673618, 0.05115727, 0.45527884],\n",
       "      dtype=float32)"
      ]
     },
     "execution_count": 29,
     "metadata": {},
     "output_type": "execute_result"
    }
   ],
   "source": [
    "np.exp(final_output)/np.sum(np.exp(final_output))"
   ]
  },
  {
   "cell_type": "markdown",
   "metadata": {},
   "source": [
    "We can notice that the output obtained here is exactly the same as what we obtained from the model.predict method."
   ]
  }
 ],
 "metadata": {
  "kernelspec": {
   "display_name": "Python 3",
   "language": "python",
   "name": "python3"
  },
  "language_info": {
   "codemirror_mode": {
    "name": "ipython",
    "version": 3
   },
   "file_extension": ".py",
   "mimetype": "text/x-python",
   "name": "python",
   "nbconvert_exporter": "python",
   "pygments_lexer": "ipython3",
   "version": "3.7.3"
  }
 },
 "nbformat": 4,
 "nbformat_minor": 2
}
