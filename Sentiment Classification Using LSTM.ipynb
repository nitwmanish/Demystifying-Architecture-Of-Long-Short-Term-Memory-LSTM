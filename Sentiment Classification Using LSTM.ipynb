{
 "cells": [
  {
   "cell_type": "markdown",
   "metadata": {},
   "source": [
    "# Sentiment Classification Using RNN"
   ]
  },
  {
   "cell_type": "markdown",
   "metadata": {},
   "source": [
    "Import the modules."
   ]
  },
  {
   "cell_type": "code",
   "execution_count": 1,
   "metadata": {},
   "outputs": [
    {
     "name": "stderr",
     "output_type": "stream",
     "text": [
      "Using TensorFlow backend.\n"
     ]
    }
   ],
   "source": [
    "import re\n",
    "import nltk\n",
    "import numpy as np\n",
    "import pandas as pd\n",
    "from numpy import argmax\n",
    "from collections import Counter\n",
    "import matplotlib.pyplot as plt\n",
    "import matplotlib.ticker as mtick\n",
    "from nltk.corpus import stopwords\n",
    "from keras.layers import LSTM\n",
    "from keras.models import Sequential\n",
    "from keras.utils import to_categorical\n",
    "from keras.layers import Dense, Activation\n",
    "from keras.layers.embeddings import Embedding\n",
    "from keras.preprocessing.sequence import pad_sequences\n",
    "from sklearn.metrics import confusion_matrix\n",
    "from sklearn.model_selection import train_test_split\n",
    "\n",
    "%matplotlib inline"
   ]
  },
  {
   "cell_type": "code",
   "execution_count": 2,
   "metadata": {},
   "outputs": [
    {
     "name": "stderr",
     "output_type": "stream",
     "text": [
      "[nltk_data] Downloading package stopwords to\n",
      "[nltk_data]     C:\\Users\\maninaya\\AppData\\Roaming\\nltk_data...\n",
      "[nltk_data]   Package stopwords is already up-to-date!\n"
     ]
    }
   ],
   "source": [
    "nltk.download('stopwords')\n",
    "stop = set(stopwords.words('english'))"
   ]
  },
  {
   "cell_type": "markdown",
   "metadata": {},
   "source": [
    "Download the dataset."
   ]
  },
  {
   "cell_type": "code",
   "execution_count": 3,
   "metadata": {},
   "outputs": [],
   "source": [
    "data=pd.read_csv('https://www.dropbox.com/s/8yq0edd4q908xqw/airline_sentiment.csv?dl=1')"
   ]
  },
  {
   "cell_type": "code",
   "execution_count": 4,
   "metadata": {},
   "outputs": [
    {
     "data": {
      "text/plain": [
       "(11541, 2)"
      ]
     },
     "execution_count": 4,
     "metadata": {},
     "output_type": "execute_result"
    }
   ],
   "source": [
    "data.shape"
   ]
  },
  {
   "cell_type": "markdown",
   "metadata": {},
   "source": [
    "A sample of the dataset looks as follows."
   ]
  },
  {
   "cell_type": "code",
   "execution_count": 5,
   "metadata": {},
   "outputs": [
    {
     "data": {
      "text/html": [
       "<div>\n",
       "<style scoped>\n",
       "    .dataframe tbody tr th:only-of-type {\n",
       "        vertical-align: middle;\n",
       "    }\n",
       "\n",
       "    .dataframe tbody tr th {\n",
       "        vertical-align: top;\n",
       "    }\n",
       "\n",
       "    .dataframe thead th {\n",
       "        text-align: right;\n",
       "    }\n",
       "</style>\n",
       "<table border=\"1\" class=\"dataframe\">\n",
       "  <thead>\n",
       "    <tr style=\"text-align: right;\">\n",
       "      <th></th>\n",
       "      <th>airline_sentiment</th>\n",
       "      <th>text</th>\n",
       "    </tr>\n",
       "  </thead>\n",
       "  <tbody>\n",
       "    <tr>\n",
       "      <th>0</th>\n",
       "      <td>1</td>\n",
       "      <td>@VirginAmerica plus you've added commercials t...</td>\n",
       "    </tr>\n",
       "    <tr>\n",
       "      <th>1</th>\n",
       "      <td>0</td>\n",
       "      <td>@VirginAmerica it's really aggressive to blast...</td>\n",
       "    </tr>\n",
       "    <tr>\n",
       "      <th>2</th>\n",
       "      <td>0</td>\n",
       "      <td>@VirginAmerica and it's a really big bad thing...</td>\n",
       "    </tr>\n",
       "    <tr>\n",
       "      <th>3</th>\n",
       "      <td>0</td>\n",
       "      <td>@VirginAmerica seriously would pay $30 a fligh...</td>\n",
       "    </tr>\n",
       "    <tr>\n",
       "      <th>4</th>\n",
       "      <td>1</td>\n",
       "      <td>@VirginAmerica yes, nearly every time I fly VX...</td>\n",
       "    </tr>\n",
       "  </tbody>\n",
       "</table>\n",
       "</div>"
      ],
      "text/plain": [
       "   airline_sentiment                                               text\n",
       "0                  1  @VirginAmerica plus you've added commercials t...\n",
       "1                  0  @VirginAmerica it's really aggressive to blast...\n",
       "2                  0  @VirginAmerica and it's a really big bad thing...\n",
       "3                  0  @VirginAmerica seriously would pay $30 a fligh...\n",
       "4                  1  @VirginAmerica yes, nearly every time I fly VX..."
      ]
     },
     "execution_count": 5,
     "metadata": {},
     "output_type": "execute_result"
    }
   ],
   "source": [
    "data.head()"
   ]
  },
  {
   "cell_type": "markdown",
   "metadata": {},
   "source": [
    "Preprocess the input text\n",
    "* Preprocess the input sentences to remove punctuation\n",
    "* Lowercasing for all words.\n",
    "* Remove the stop words."
   ]
  },
  {
   "cell_type": "code",
   "execution_count": 6,
   "metadata": {},
   "outputs": [],
   "source": [
    "def preprocess(text):\n",
    "    text=text.lower()\n",
    "    text=re.sub('[^0-9a-zA-Z]+',' ',text)\n",
    "    words = text.split()\n",
    "    words2 = [word for word in words if word not in stop]\n",
    "    words3=' '.join(words2)\n",
    "    return(words3)"
   ]
  },
  {
   "cell_type": "code",
   "execution_count": 7,
   "metadata": {},
   "outputs": [],
   "source": [
    "data['text'] = data['text'].apply(preprocess)"
   ]
  },
  {
   "cell_type": "markdown",
   "metadata": {},
   "source": [
    "After Preprocessing the Dataset looks as follows."
   ]
  },
  {
   "cell_type": "code",
   "execution_count": 8,
   "metadata": {},
   "outputs": [
    {
     "data": {
      "text/html": [
       "<div>\n",
       "<style scoped>\n",
       "    .dataframe tbody tr th:only-of-type {\n",
       "        vertical-align: middle;\n",
       "    }\n",
       "\n",
       "    .dataframe tbody tr th {\n",
       "        vertical-align: top;\n",
       "    }\n",
       "\n",
       "    .dataframe thead th {\n",
       "        text-align: right;\n",
       "    }\n",
       "</style>\n",
       "<table border=\"1\" class=\"dataframe\">\n",
       "  <thead>\n",
       "    <tr style=\"text-align: right;\">\n",
       "      <th></th>\n",
       "      <th>airline_sentiment</th>\n",
       "      <th>text</th>\n",
       "    </tr>\n",
       "  </thead>\n",
       "  <tbody>\n",
       "    <tr>\n",
       "      <th>0</th>\n",
       "      <td>1</td>\n",
       "      <td>virginamerica plus added commercials experienc...</td>\n",
       "    </tr>\n",
       "    <tr>\n",
       "      <th>1</th>\n",
       "      <td>0</td>\n",
       "      <td>virginamerica really aggressive blast obnoxiou...</td>\n",
       "    </tr>\n",
       "    <tr>\n",
       "      <th>2</th>\n",
       "      <td>0</td>\n",
       "      <td>virginamerica really big bad thing</td>\n",
       "    </tr>\n",
       "    <tr>\n",
       "      <th>3</th>\n",
       "      <td>0</td>\n",
       "      <td>virginamerica seriously would pay 30 flight se...</td>\n",
       "    </tr>\n",
       "    <tr>\n",
       "      <th>4</th>\n",
       "      <td>1</td>\n",
       "      <td>virginamerica yes nearly every time fly vx ear...</td>\n",
       "    </tr>\n",
       "  </tbody>\n",
       "</table>\n",
       "</div>"
      ],
      "text/plain": [
       "   airline_sentiment                                               text\n",
       "0                  1  virginamerica plus added commercials experienc...\n",
       "1                  0  virginamerica really aggressive blast obnoxiou...\n",
       "2                  0                 virginamerica really big bad thing\n",
       "3                  0  virginamerica seriously would pay 30 flight se...\n",
       "4                  1  virginamerica yes nearly every time fly vx ear..."
      ]
     },
     "execution_count": 8,
     "metadata": {},
     "output_type": "execute_result"
    }
   ],
   "source": [
    "data.head()"
   ]
  },
  {
   "cell_type": "markdown",
   "metadata": {},
   "source": [
    "Preprocess our dataset so that it can be passed to an RNN.\n",
    "\n",
    "In the code \n",
    "* Extract the word-to-integer mapping of all the words that constitute the dataset. "
   ]
  },
  {
   "cell_type": "markdown",
   "metadata": {},
   "source": [
    "In the following step, extracting the frequency of all the words in the dataset"
   ]
  },
  {
   "cell_type": "code",
   "execution_count": 9,
   "metadata": {},
   "outputs": [],
   "source": [
    "counts = Counter()\n",
    "for i,review in enumerate(data['text']):\n",
    "    counts.update(review.split())\n",
    "words = sorted(counts, key=counts.get, reverse=True)"
   ]
  },
  {
   "cell_type": "markdown",
   "metadata": {},
   "source": [
    "A sample of extracted words are as follows.\n",
    "* In the preceding code, looping through all the words and are assigning an index for each word."
   ]
  },
  {
   "cell_type": "markdown",
   "metadata": {},
   "source": [
    "A sample of integer to word dictionary is as follows."
   ]
  },
  {
   "cell_type": "code",
   "execution_count": 10,
   "metadata": {},
   "outputs": [
    {
     "data": {
      "text/plain": [
       "['united',\n",
       " 'flight',\n",
       " 'usairways',\n",
       " 'americanair',\n",
       " 'southwestair',\n",
       " 'jetblue',\n",
       " 'get',\n",
       " 'cancelled',\n",
       " 'thanks',\n",
       " 'service']"
      ]
     },
     "execution_count": 10,
     "metadata": {},
     "output_type": "execute_result"
    }
   ],
   "source": [
    "\n",
    "words[0:10]"
   ]
  },
  {
   "cell_type": "code",
   "execution_count": 11,
   "metadata": {},
   "outputs": [
    {
     "data": {
      "text/plain": [
       "12532"
      ]
     },
     "execution_count": 11,
     "metadata": {},
     "output_type": "execute_result"
    }
   ],
   "source": [
    "chars = words\n",
    "nb_chars = len(words)\n",
    "nb_chars"
   ]
  },
  {
   "cell_type": "markdown",
   "metadata": {},
   "source": [
    "In the following code,looping through all the words and assigning an index for each word. "
   ]
  },
  {
   "cell_type": "code",
   "execution_count": 12,
   "metadata": {},
   "outputs": [],
   "source": [
    "word_to_int = {word: i for i, word in enumerate(words, 1)}\n",
    "int_to_word = {i: word for i, word in enumerate(words, 1)}"
   ]
  },
  {
   "cell_type": "markdown",
   "metadata": {},
   "source": [
    "A sample of integer to word dictionary is as follows."
   ]
  },
  {
   "cell_type": "code",
   "execution_count": 13,
   "metadata": {},
   "outputs": [
    {
     "data": {
      "text/plain": [
       "{1: 'united',\n",
       " 2: 'flight',\n",
       " 3: 'usairways',\n",
       " 4: 'americanair',\n",
       " 5: 'southwestair',\n",
       " 6: 'jetblue',\n",
       " 7: 'get',\n",
       " 8: 'cancelled',\n",
       " 9: 'thanks',\n",
       " 10: 'service',\n",
       " 11: '2',\n",
       " 12: 'customer',\n",
       " 13: 'help',\n",
       " 14: 'time',\n",
       " 15: 'co',\n",
       " 16: 'hours',\n",
       " 17: 'http',\n",
       " 18: 'hold',\n",
       " 19: 'amp',\n",
       " 20: 'plane',\n",
       " 21: 'us',\n",
       " 22: 'thank',\n",
       " 23: 'still',\n",
       " 24: 'delayed',\n",
       " 25: 'one',\n",
       " 26: 'flights',\n",
       " 27: 'call',\n",
       " 28: 'gate',\n",
       " 29: 'hour',\n",
       " 30: 'flightled',\n",
       " 31: 'bag',\n",
       " 32: 'back',\n",
       " 33: 'would',\n",
       " 34: 'got',\n",
       " 35: 'late',\n",
       " 36: 'phone',\n",
       " 37: 'need',\n",
       " 38: 'please',\n",
       " 39: 'airline',\n",
       " 40: '3',\n",
       " 41: 'like',\n",
       " 42: 'waiting',\n",
       " 43: 'today',\n",
       " 44: 'virginamerica',\n",
       " 45: 'guys',\n",
       " 46: '4',\n",
       " 47: 'great',\n",
       " 48: 'wait',\n",
       " 49: 'u',\n",
       " 50: 'fly',\n",
       " 51: 'never',\n",
       " 52: 'day',\n",
       " 53: 'trying',\n",
       " 54: 'airport',\n",
       " 55: 'delay',\n",
       " 56: '1',\n",
       " 57: 'really',\n",
       " 58: 'minutes',\n",
       " 59: 'even',\n",
       " 60: 'going',\n",
       " 61: 'people',\n",
       " 62: '5',\n",
       " 63: 'last',\n",
       " 64: 'way',\n",
       " 65: 'bags',\n",
       " 66: 'weather',\n",
       " 67: 'good',\n",
       " 68: 'know',\n",
       " 69: 'agent',\n",
       " 70: 'home',\n",
       " 71: 'make',\n",
       " 72: 'told',\n",
       " 73: 'luggage',\n",
       " 74: 'another',\n",
       " 75: 'worst',\n",
       " 76: 'go',\n",
       " 77: 'flying',\n",
       " 78: 'ever',\n",
       " 79: 'lost',\n",
       " 80: 'seat',\n",
       " 81: 'w',\n",
       " 82: 'change',\n",
       " 83: 'check',\n",
       " 84: 'take',\n",
       " 85: 'want',\n",
       " 86: 'hrs',\n",
       " 87: 'crew',\n",
       " 88: 'due',\n",
       " 89: 'getting',\n",
       " 90: 'first',\n",
       " 91: 'days',\n",
       " 92: 'flighted',\n",
       " 93: 'someone',\n",
       " 94: 'baggage',\n",
       " 95: 'work',\n",
       " 96: 'much',\n",
       " 97: 'love',\n",
       " 98: 'tomorrow',\n",
       " 99: 'made',\n",
       " 100: 'experience',\n",
       " 101: 'response',\n",
       " 102: 'let',\n",
       " 103: 'see',\n",
       " 104: 'could',\n",
       " 105: 'new',\n",
       " 106: 'ticket',\n",
       " 107: 'yes',\n",
       " 108: 'two',\n",
       " 109: 'sitting',\n",
       " 110: 'next',\n",
       " 111: 'min',\n",
       " 112: 'staff',\n",
       " 113: 'customers',\n",
       " 114: 'bad',\n",
       " 115: 'travel',\n",
       " 116: 'email',\n",
       " 117: 'better',\n",
       " 118: 'line',\n",
       " 119: 'seats',\n",
       " 120: 'aa',\n",
       " 121: 'best',\n",
       " 122: 'trip',\n",
       " 123: 'number',\n",
       " 124: 'problems',\n",
       " 125: 'right',\n",
       " 126: 'said',\n",
       " 127: 'online',\n",
       " 128: '10',\n",
       " 129: 'since',\n",
       " 130: 'stuck',\n",
       " 131: 'times',\n",
       " 132: '30',\n",
       " 133: 'jfk',\n",
       " 134: 'long',\n",
       " 135: 'flightr',\n",
       " 136: 'agents',\n",
       " 137: 'already',\n",
       " 138: 'nothing',\n",
       " 139: 'miss',\n",
       " 140: 'boarding',\n",
       " 141: 'dm',\n",
       " 142: 'well',\n",
       " 143: '6',\n",
       " 144: 'give',\n",
       " 145: 'issue',\n",
       " 146: 'passengers',\n",
       " 147: 'care',\n",
       " 148: 'system',\n",
       " 149: 'sure',\n",
       " 150: 'website',\n",
       " 151: 'connection',\n",
       " 152: 'book',\n",
       " 153: 'tried',\n",
       " 154: 'booked',\n",
       " 155: 'hotel',\n",
       " 156: 'rude',\n",
       " 157: 'left',\n",
       " 158: 'find',\n",
       " 159: 'sent',\n",
       " 160: 'yet',\n",
       " 161: 'delays',\n",
       " 162: 'night',\n",
       " 163: 'called',\n",
       " 164: 'tonight',\n",
       " 165: 'missed',\n",
       " 166: 'refund',\n",
       " 167: 'keep',\n",
       " 168: 'flt',\n",
       " 169: 'airlines',\n",
       " 170: 'rebooked',\n",
       " 171: 'miles',\n",
       " 172: 'says',\n",
       " 173: 'put',\n",
       " 174: 'mins',\n",
       " 175: 'morning',\n",
       " 176: 'reservation',\n",
       " 177: 'dfw',\n",
       " 178: 'issues',\n",
       " 179: 'awesome',\n",
       " 180: 'info',\n",
       " 181: 'think',\n",
       " 182: 'hope',\n",
       " 183: 'nice',\n",
       " 184: 'pay',\n",
       " 185: 'air',\n",
       " 186: 'working',\n",
       " 187: 'booking',\n",
       " 188: 'ago',\n",
       " 189: 'finally',\n",
       " 190: 'tell',\n",
       " 191: 'rebook',\n",
       " 192: 'use',\n",
       " 193: 'lax',\n",
       " 194: 'anything',\n",
       " 195: 'also',\n",
       " 196: 'wifi',\n",
       " 197: 'anyone',\n",
       " 198: '20',\n",
       " 199: 'every',\n",
       " 200: 'missing',\n",
       " 201: 'appreciate',\n",
       " 202: 'week',\n",
       " 203: 'free',\n",
       " 204: 'done',\n",
       " 205: 'business',\n",
       " 206: 'helpful',\n",
       " 207: 'terrible',\n",
       " 208: 'answer',\n",
       " 209: 'dca',\n",
       " 210: 'phl',\n",
       " 211: 'making',\n",
       " 212: 'always',\n",
       " 213: 'person',\n",
       " 214: 'say',\n",
       " 215: '8',\n",
       " 216: 'sfo',\n",
       " 217: 'able',\n",
       " 218: 'team',\n",
       " 219: 'problem',\n",
       " 220: 'fail',\n",
       " 221: 'checked',\n",
       " 222: 'board',\n",
       " 223: 'disappointed',\n",
       " 224: 'without',\n",
       " 225: 'fix',\n",
       " 226: '7',\n",
       " 227: 'yesterday',\n",
       " 228: 'credit',\n",
       " 229: 'delta',\n",
       " 230: 'class',\n",
       " 231: 'rep',\n",
       " 232: 'voucher',\n",
       " 233: 'amazing',\n",
       " 234: 'speak',\n",
       " 235: 'update',\n",
       " 236: 'ord',\n",
       " 237: 'ridiculous',\n",
       " 238: 'almost',\n",
       " 239: 'thx',\n",
       " 240: 'paid',\n",
       " 241: 'understand',\n",
       " 242: 'unacceptable',\n",
       " 243: 'attendant',\n",
       " 244: 'early',\n",
       " 245: 'come',\n",
       " 246: 'extra',\n",
       " 247: 'app',\n",
       " 248: 'leave',\n",
       " 249: 'hung',\n",
       " 250: 'happy',\n",
       " 251: 'money',\n",
       " 252: 'available',\n",
       " 253: 'sorry',\n",
       " 254: 'many',\n",
       " 255: 'claim',\n",
       " 256: 'everyone',\n",
       " 257: '15',\n",
       " 258: 'look',\n",
       " 259: 'pilot',\n",
       " 260: 'poor',\n",
       " 261: 'ewr',\n",
       " 262: 'talk',\n",
       " 263: 'employees',\n",
       " 264: 'horrible',\n",
       " 265: 'stop',\n",
       " 266: 'full',\n",
       " 267: 'planes',\n",
       " 268: 'tarmac',\n",
       " 269: '45',\n",
       " 270: 'least',\n",
       " 271: 'upgrade',\n",
       " 272: 'stranded',\n",
       " 273: 'company',\n",
       " 274: 'clt',\n",
       " 275: 'status',\n",
       " 276: 'tickets',\n",
       " 277: 'job',\n",
       " 278: 'took',\n",
       " 279: 'ok',\n",
       " 280: 'ground',\n",
       " 281: 'seriously',\n",
       " 282: 'supposed',\n",
       " 283: 'gt',\n",
       " 284: 'though',\n",
       " 285: 'wife',\n",
       " 286: 'connecting',\n",
       " 287: 'different',\n",
       " 288: 'southwest',\n",
       " 289: 'bos',\n",
       " 290: 'departure',\n",
       " 291: 'try',\n",
       " 292: 'actually',\n",
       " 293: 'site',\n",
       " 294: 'calling',\n",
       " 295: 'contact',\n",
       " 296: 'looking',\n",
       " 297: 'instead',\n",
       " 298: '1st',\n",
       " 299: 'year',\n",
       " 300: '40',\n",
       " 301: 'family',\n",
       " 302: 'found',\n",
       " 303: 'ur',\n",
       " 304: 'half',\n",
       " 305: '50',\n",
       " 306: 'landed',\n",
       " 307: 'open',\n",
       " 308: 'taking',\n",
       " 309: 'received',\n",
       " 310: 'oh',\n",
       " 311: 'vacation',\n",
       " 312: 'frustrated',\n",
       " 313: 'three',\n",
       " 314: 'weeks',\n",
       " 315: 'food',\n",
       " 316: 'follow',\n",
       " 317: 'wrong',\n",
       " 318: 'boston',\n",
       " 319: 'hr',\n",
       " 320: 'gave',\n",
       " 321: 'via',\n",
       " 322: 'earlier',\n",
       " 323: '9',\n",
       " 324: 'twitter',\n",
       " 325: 'something',\n",
       " 326: 'bc',\n",
       " 327: 'far',\n",
       " 328: 'big',\n",
       " 329: 'mechanical',\n",
       " 330: 'broken',\n",
       " 331: '24',\n",
       " 332: 'denver',\n",
       " 333: 'reason',\n",
       " 334: '11',\n",
       " 335: 'reply',\n",
       " 336: 'desk',\n",
       " 337: 'send',\n",
       " 338: 'twice',\n",
       " 339: 'away',\n",
       " 340: 'direct',\n",
       " 341: 'b',\n",
       " 342: 'worse',\n",
       " 343: 'past',\n",
       " 344: 'point',\n",
       " 345: 'maybe',\n",
       " 346: 'pass',\n",
       " 347: 'enough',\n",
       " 348: 'sit',\n",
       " 349: 'needs',\n",
       " 350: 'might',\n",
       " 351: 'dallas',\n",
       " 352: 'makes',\n",
       " 353: 'old',\n",
       " 354: 'asked',\n",
       " 355: 'changed',\n",
       " 356: 'tweet',\n",
       " 357: 'name',\n",
       " 358: 'option',\n",
       " 359: 'went',\n",
       " 360: 'charge',\n",
       " 361: '25',\n",
       " 362: 'chicago',\n",
       " 363: 'less',\n",
       " 364: 'message',\n",
       " 365: 'runway',\n",
       " 366: 'little',\n",
       " 367: 'thing',\n",
       " 368: 'nyc',\n",
       " 369: 'san',\n",
       " 370: '800',\n",
       " 371: 'stay',\n",
       " 372: 'things',\n",
       " 373: 'waited',\n",
       " 374: 'lot',\n",
       " 375: 'saying',\n",
       " 376: 'leaving',\n",
       " 377: 'awful',\n",
       " 378: '200',\n",
       " 379: 'cool',\n",
       " 380: 'return',\n",
       " 381: 'around',\n",
       " 382: 'account',\n",
       " 383: 'seems',\n",
       " 384: 'fee',\n",
       " 385: 'lack',\n",
       " 386: 'american',\n",
       " 387: 'frustrating',\n",
       " 388: 'reservations',\n",
       " 389: 'hey',\n",
       " 390: 'hard',\n",
       " 391: 'longer',\n",
       " 392: 'sucks',\n",
       " 393: 'houston',\n",
       " 394: 'else',\n",
       " 395: 'telling',\n",
       " 396: 'real',\n",
       " 397: 'phx',\n",
       " 398: 'card',\n",
       " 399: 'car',\n",
       " 400: 'charlotte',\n",
       " 401: 'show',\n",
       " 402: 'destination',\n",
       " 403: 'given',\n",
       " 404: 'airways',\n",
       " 405: 'arrived',\n",
       " 406: 'c',\n",
       " 407: 'together',\n",
       " 408: 'looks',\n",
       " 409: 'calls',\n",
       " 410: 'guess',\n",
       " 411: 'attendants',\n",
       " 412: 'feel',\n",
       " 413: 'sat',\n",
       " 414: 'minute',\n",
       " 415: 'snow',\n",
       " 416: 'coming',\n",
       " 417: 'cust',\n",
       " 418: 'thru',\n",
       " 419: 'maintenance',\n",
       " 420: 'start',\n",
       " 421: 'counting',\n",
       " 422: 'vegas',\n",
       " 423: 'link',\n",
       " 424: 'pls',\n",
       " 425: 'joke',\n",
       " 426: '12',\n",
       " 427: 'iah',\n",
       " 428: 'fleet',\n",
       " 429: 'heard',\n",
       " 430: 'fll',\n",
       " 431: 'may',\n",
       " 432: 'member',\n",
       " 433: '100',\n",
       " 434: 'policy',\n",
       " 435: 'error',\n",
       " 436: 'landing',\n",
       " 437: 'suck',\n",
       " 438: 'row',\n",
       " 439: 'loyal',\n",
       " 440: 'life',\n",
       " 441: 'den',\n",
       " 442: 'happened',\n",
       " 443: 'options',\n",
       " 444: 'add',\n",
       " 445: 'philly',\n",
       " 446: 'apology',\n",
       " 447: 'spent',\n",
       " 448: 'reflight',\n",
       " 449: 'information',\n",
       " 450: 'plus',\n",
       " 451: 'everything',\n",
       " 452: 'human',\n",
       " 453: 'scheduled',\n",
       " 454: 'offer',\n",
       " 455: 'cost',\n",
       " 456: 'newark',\n",
       " 457: 'glad',\n",
       " 458: 'using',\n",
       " 459: 'soon',\n",
       " 460: 'believe',\n",
       " 461: 'hear',\n",
       " 462: 'communication',\n",
       " 463: 'reach',\n",
       " 464: 'busy',\n",
       " 465: 'iad',\n",
       " 466: 'end',\n",
       " 467: 'lga',\n",
       " 468: 'im',\n",
       " 469: 'assistance',\n",
       " 470: 'cannot',\n",
       " 471: 'ua',\n",
       " 472: 'terminal',\n",
       " 473: 'usair',\n",
       " 474: 'fleek',\n",
       " 475: 'lose',\n",
       " 476: 'quick',\n",
       " 477: 'boarded',\n",
       " 478: 'arrive',\n",
       " 479: 'needed',\n",
       " 480: 'changes',\n",
       " 481: 'swa',\n",
       " 482: 'wow',\n",
       " 483: 'guy',\n",
       " 484: 'room',\n",
       " 485: 'complaint',\n",
       " 486: 'jet',\n",
       " 487: 'expect',\n",
       " 488: 'flew',\n",
       " 489: 'las',\n",
       " 490: 'paying',\n",
       " 491: 'kids',\n",
       " 492: 'helping',\n",
       " 493: 'passenger',\n",
       " 494: 'entire',\n",
       " 495: 'computer',\n",
       " 496: 'unitedairlines',\n",
       " 497: 'counter',\n",
       " 498: 'used',\n",
       " 499: 'pick',\n",
       " 500: 'miami',\n",
       " 501: 'mean',\n",
       " 502: 'confirmation',\n",
       " 503: 'forward',\n",
       " 504: 'city',\n",
       " 505: 'wanted',\n",
       " 506: 'whole',\n",
       " 507: 'sw',\n",
       " 508: 'blue',\n",
       " 509: '2nd',\n",
       " 510: 'process',\n",
       " 511: 'dc',\n",
       " 512: 'wtf',\n",
       " 513: 'hoping',\n",
       " 514: 'empty',\n",
       " 515: 'non',\n",
       " 516: 'form',\n",
       " 517: 'idea',\n",
       " 518: 'friend',\n",
       " 519: 'automated',\n",
       " 520: 'holding',\n",
       " 521: 'pretty',\n",
       " 522: 'beyond',\n",
       " 523: 'tv',\n",
       " 524: 'checking',\n",
       " 525: 'run',\n",
       " 526: 'bwi',\n",
       " 527: 'situation',\n",
       " 528: 'deal',\n",
       " 529: 'fine',\n",
       " 530: 'rt',\n",
       " 531: 'respond',\n",
       " 532: 'pilots',\n",
       " 533: 'place',\n",
       " 534: 'years',\n",
       " 535: 'chance',\n",
       " 536: 'request',\n",
       " 537: 'thought',\n",
       " 538: 'flighting',\n",
       " 539: 'rather',\n",
       " 540: 'sleep',\n",
       " 541: 'standby',\n",
       " 542: 'fault',\n",
       " 543: 'customerservice',\n",
       " 544: 'cant',\n",
       " 545: 'points',\n",
       " 546: 'wish',\n",
       " 547: 'supervisor',\n",
       " 548: 'upset',\n",
       " 549: 'yeah',\n",
       " 550: 'case',\n",
       " 551: 'taken',\n",
       " 552: 'mco',\n",
       " 553: 'moved',\n",
       " 554: 'completely',\n",
       " 555: 'buy',\n",
       " 556: 'offered',\n",
       " 557: 'handle',\n",
       " 558: 'confirmed',\n",
       " 559: 'treat',\n",
       " 560: 'monday',\n",
       " 561: 'second',\n",
       " 562: 'ask',\n",
       " 563: 'updates',\n",
       " 564: 'traveling',\n",
       " 565: 'top',\n",
       " 566: 'employee',\n",
       " 567: 'disconnected',\n",
       " 568: 'hi',\n",
       " 569: 'support',\n",
       " 570: 'easy',\n",
       " 571: 'reschedule',\n",
       " 572: 'apparently',\n",
       " 573: 'group',\n",
       " 574: 'international',\n",
       " 575: 'compensation',\n",
       " 576: 'happen',\n",
       " 577: 'delivered',\n",
       " 578: 'sunday',\n",
       " 579: 'hate',\n",
       " 580: 'lt',\n",
       " 581: 'mia',\n",
       " 582: 'either',\n",
       " 583: 'world',\n",
       " 584: 'provide',\n",
       " 585: 'question',\n",
       " 586: 'possible',\n",
       " 587: 'carry',\n",
       " 588: 'connections',\n",
       " 589: 'drive',\n",
       " 590: 'months',\n",
       " 591: 'seem',\n",
       " 592: 'asking',\n",
       " 593: 'zero',\n",
       " 594: 'lol',\n",
       " 595: 'appreciated',\n",
       " 596: 'la',\n",
       " 597: 'friendly',\n",
       " 598: 'month',\n",
       " 599: 'super',\n",
       " 600: 'sad',\n",
       " 601: 'checkin',\n",
       " 602: 'charged',\n",
       " 603: 'club',\n",
       " 604: 'helped',\n",
       " 605: 'fees',\n",
       " 606: 'platinum',\n",
       " 607: 'figure',\n",
       " 608: 'fact',\n",
       " 609: 'leg',\n",
       " 610: 'hopefully',\n",
       " 611: 'gets',\n",
       " 612: 'flightlations',\n",
       " 613: 'live',\n",
       " 614: 'kind',\n",
       " 615: 'four',\n",
       " 616: 'bought',\n",
       " 617: 'flightlation',\n",
       " 618: 'high',\n",
       " 619: 'price',\n",
       " 620: 'future',\n",
       " 621: 'reps',\n",
       " 622: 'despite',\n",
       " 623: 'atl',\n",
       " 624: 'happens',\n",
       " 625: 'extremely',\n",
       " 626: 'clothes',\n",
       " 627: 'means',\n",
       " 628: 'list',\n",
       " 629: 'huge',\n",
       " 630: 'crazy',\n",
       " 631: 'losing',\n",
       " 632: 'destinationdragons',\n",
       " 633: 'answering',\n",
       " 634: 'f',\n",
       " 635: 'front',\n",
       " 636: 'tsa',\n",
       " 637: 'ny',\n",
       " 638: 'fun',\n",
       " 639: 'inconvenience',\n",
       " 640: 'https',\n",
       " 641: 'several',\n",
       " 642: 'shit',\n",
       " 643: 'answers',\n",
       " 644: 'gives',\n",
       " 645: 'sending',\n",
       " 646: 'seen',\n",
       " 647: 'media',\n",
       " 648: 'water',\n",
       " 649: 'rock',\n",
       " 650: 'asap',\n",
       " 651: 'giving',\n",
       " 652: 'rescheduled',\n",
       " 653: 'came',\n",
       " 654: 'safety',\n",
       " 655: 'purchase',\n",
       " 656: 'spoke',\n",
       " 657: 'address',\n",
       " 658: 'luck',\n",
       " 659: 'details',\n",
       " 660: 'pm',\n",
       " 661: 'fixed',\n",
       " 662: 'unable',\n",
       " 663: 'phones',\n",
       " 664: 'sense',\n",
       " 665: 'multiple',\n",
       " 666: 'switch',\n",
       " 667: 'dont',\n",
       " 668: 'friends',\n",
       " 669: 'lots',\n",
       " 670: 'flown',\n",
       " 671: 'gold',\n",
       " 672: 'gonna',\n",
       " 673: 'luv',\n",
       " 674: '1k',\n",
       " 675: 'part',\n",
       " 676: 'held',\n",
       " 677: 'kudos',\n",
       " 678: 'load',\n",
       " 679: 'arrival',\n",
       " 680: 'priority',\n",
       " 681: 'treated',\n",
       " 682: 'hang',\n",
       " 683: 'relations',\n",
       " 684: 'award',\n",
       " 685: 'must',\n",
       " 686: 'totally',\n",
       " 687: 'keeps',\n",
       " 688: 'spend',\n",
       " 689: 'report',\n",
       " 690: 'austin',\n",
       " 691: 'set',\n",
       " 692: 'excellent',\n",
       " 693: 'plans',\n",
       " 694: 'storm',\n",
       " 695: 'complete',\n",
       " 696: 'wonderful',\n",
       " 697: 'aircraft',\n",
       " 698: 'members',\n",
       " 699: 'ready',\n",
       " 700: 'nope',\n",
       " 701: 'original',\n",
       " 702: 'ppl',\n",
       " 703: 'lines',\n",
       " 704: 'knew',\n",
       " 705: 'tuesday',\n",
       " 706: 'country',\n",
       " 707: 'americanairlines',\n",
       " 708: '000',\n",
       " 709: 'cabin',\n",
       " 710: 'probably',\n",
       " 711: 'fare',\n",
       " 712: 'space',\n",
       " 713: 'read',\n",
       " 714: 'date',\n",
       " 715: 'overnight',\n",
       " 716: 'matter',\n",
       " 717: 'okay',\n",
       " 718: 'neveragain',\n",
       " 719: 'responding',\n",
       " 720: 'control',\n",
       " 721: 'dealing',\n",
       " 722: '1hr',\n",
       " 723: 'attitude',\n",
       " 724: 'allow',\n",
       " 725: 'letter',\n",
       " 726: 'gone',\n",
       " 727: 'cause',\n",
       " 728: 'layover',\n",
       " 729: 'running',\n",
       " 730: 'folks',\n",
       " 731: 'r',\n",
       " 732: 'husband',\n",
       " 733: 'forced',\n",
       " 734: 'word',\n",
       " 735: 'explain',\n",
       " 736: 'vouchers',\n",
       " 737: 'goes',\n",
       " 738: 'ice',\n",
       " 739: 'literally',\n",
       " 740: 'complaints',\n",
       " 741: 'mess',\n",
       " 742: 'excited',\n",
       " 743: 'middle',\n",
       " 744: 'correct',\n",
       " 745: 'kept',\n",
       " 746: 'land',\n",
       " 747: 'absolutely',\n",
       " 748: 'small',\n",
       " 749: 'currently',\n",
       " 750: 'arriving',\n",
       " 751: 'record',\n",
       " 752: 'mine',\n",
       " 753: 'knows',\n",
       " 754: 'however',\n",
       " 755: 'unfortunately',\n",
       " 756: 'usairwaysfail',\n",
       " 757: 'door',\n",
       " 758: '90',\n",
       " 759: 'choice',\n",
       " 760: 'plan',\n",
       " 761: 'bring',\n",
       " 762: 'hangs',\n",
       " 763: 'yall',\n",
       " 764: 'useless',\n",
       " 765: '2015',\n",
       " 766: 'takes',\n",
       " 767: '35',\n",
       " 768: 'closed',\n",
       " 769: 'access',\n",
       " 770: 'center',\n",
       " 771: 'learn',\n",
       " 772: 'worked',\n",
       " 773: 'services',\n",
       " 774: 'note',\n",
       " 775: 'lounge',\n",
       " 776: 'ruined',\n",
       " 777: 'bs',\n",
       " 778: 'tag',\n",
       " 779: 'letting',\n",
       " 780: 'worth',\n",
       " 781: '75',\n",
       " 782: 'failed',\n",
       " 783: 'nashville',\n",
       " 784: 'none',\n",
       " 785: 'explanation',\n",
       " 786: 'orlando',\n",
       " 787: 'area',\n",
       " 788: 'bna',\n",
       " 789: 'haha',\n",
       " 790: 'cold',\n",
       " 791: 'birthday',\n",
       " 792: 'sign',\n",
       " 793: 'mind',\n",
       " 794: 'ride',\n",
       " 795: 'anyway',\n",
       " 796: 'btw',\n",
       " 797: 'web',\n",
       " 798: 'drink',\n",
       " 799: 'shows',\n",
       " 800: 'window',\n",
       " 801: 'happening',\n",
       " 802: 'mileage',\n",
       " 803: 'course',\n",
       " 804: 'svc',\n",
       " 805: 'overhead',\n",
       " 806: 'unhelpful',\n",
       " 807: 'caused',\n",
       " 808: 'drop',\n",
       " 809: 'unhappy',\n",
       " 810: 'resolved',\n",
       " 811: 'rdu',\n",
       " 812: 'changing',\n",
       " 813: 'volume',\n",
       " 814: '3rd',\n",
       " 815: 'entertainment',\n",
       " 816: 'schedule',\n",
       " 817: 'flyer',\n",
       " 818: 'page',\n",
       " 819: 'lady',\n",
       " 820: 'friday',\n",
       " 821: 'filed',\n",
       " 822: 'behind',\n",
       " 823: 'story',\n",
       " 824: 'feb',\n",
       " 825: 'dropped',\n",
       " 826: 'tix',\n",
       " 827: 'yr',\n",
       " 828: 'short',\n",
       " 829: 'started',\n",
       " 830: 'others',\n",
       " 831: 'total',\n",
       " 832: 'anymore',\n",
       " 833: '22',\n",
       " 834: 'mom',\n",
       " 835: 'works',\n",
       " 836: 'captain',\n",
       " 837: 'tired',\n",
       " 838: 'move',\n",
       " 839: 'major',\n",
       " 840: 'n',\n",
       " 841: '2hrs',\n",
       " 842: 'airplane',\n",
       " 843: 'daughter',\n",
       " 844: 'screwed',\n",
       " 845: 'talked',\n",
       " 846: 'cover',\n",
       " 847: 'fucking',\n",
       " 848: 'except',\n",
       " 849: 'social',\n",
       " 850: 'bumped',\n",
       " 851: 'safe',\n",
       " 852: 'acceptable',\n",
       " 853: 'worries',\n",
       " 854: 'select',\n",
       " 855: 'trouble',\n",
       " 856: 'absolute',\n",
       " 857: 'notification',\n",
       " 858: 'stuff',\n",
       " 859: 'route',\n",
       " 860: 'charging',\n",
       " 861: 'meeting',\n",
       " 862: 'nightmare',\n",
       " 863: 'man',\n",
       " 864: 'anywhere',\n",
       " 865: 'connect',\n",
       " 866: 'pathetic',\n",
       " 867: 'flightd',\n",
       " 868: 'airports',\n",
       " 869: 'keeping',\n",
       " 870: 'failure',\n",
       " 871: 'takeoff',\n",
       " 872: 'catch',\n",
       " 873: 'damn',\n",
       " 874: 'single',\n",
       " 875: 'cs',\n",
       " 876: 'post',\n",
       " 877: 'angry',\n",
       " 878: 'badservice',\n",
       " 879: 'showing',\n",
       " 880: 'evening',\n",
       " 881: 'kidding',\n",
       " 882: 'allowed',\n",
       " 883: 'true',\n",
       " 884: '60',\n",
       " 885: 'meal',\n",
       " 886: 'plz',\n",
       " 887: 'close',\n",
       " 888: 'philadelphia',\n",
       " 889: 'dividend',\n",
       " 890: 'virgin',\n",
       " 891: 'mobile',\n",
       " 892: 'depart',\n",
       " 893: 'pre',\n",
       " 894: 'dulles',\n",
       " 895: 'watch',\n",
       " 896: 'bit',\n",
       " 897: 'round',\n",
       " 898: 'bank',\n",
       " 899: 'submitted',\n",
       " 900: 'e',\n",
       " 901: 'resolve',\n",
       " 902: 'moving',\n",
       " 903: '19',\n",
       " 904: 'talking',\n",
       " 905: 'train',\n",
       " 906: 'onto',\n",
       " 907: 'share',\n",
       " 908: 'tells',\n",
       " 909: 'confirm',\n",
       " 910: 'denied',\n",
       " 911: 'feedback',\n",
       " 912: 'hell',\n",
       " 913: 'onboard',\n",
       " 914: 'bother',\n",
       " 915: 'excuse',\n",
       " 916: '21',\n",
       " 917: 'compensate',\n",
       " 918: 'refused',\n",
       " 919: 'hanging',\n",
       " 920: 'handled',\n",
       " 921: 'especially',\n",
       " 922: 'unbelievable',\n",
       " 923: 'fantastic',\n",
       " 924: 'seating',\n",
       " 925: 'planned',\n",
       " 926: 'video',\n",
       " 927: 'fuck',\n",
       " 928: 'itinerary',\n",
       " 929: 'suitcase',\n",
       " 930: 'emails',\n",
       " 931: 'loved',\n",
       " 932: 'slow',\n",
       " 933: 'waste',\n",
       " 934: 'experienced',\n",
       " 935: 'cut',\n",
       " 936: 'auto',\n",
       " 937: 'transfer',\n",
       " 938: 'security',\n",
       " 939: 'equipment',\n",
       " 940: 'standing',\n",
       " 941: 'switched',\n",
       " 942: 'file',\n",
       " 943: 'impossible',\n",
       " 944: 'updated',\n",
       " 945: 'wasted',\n",
       " 946: 'weekend',\n",
       " 947: 'power',\n",
       " 948: 'id',\n",
       " 949: 'merger',\n",
       " 950: 'sick',\n",
       " 951: 'listening',\n",
       " 952: 'screw',\n",
       " 953: 'impressed',\n",
       " 954: 'answered',\n",
       " 955: 'baby',\n",
       " 956: 'god',\n",
       " 957: 'hire',\n",
       " 958: 'lies',\n",
       " 959: 'hello',\n",
       " 960: 'clearly',\n",
       " 961: 'companion',\n",
       " 962: 'inflight',\n",
       " 963: 'disappointing',\n",
       " 964: 'text',\n",
       " 965: 'oscars',\n",
       " 966: '14',\n",
       " 967: 'notice',\n",
       " 968: 'mention',\n",
       " 969: 'afternoon',\n",
       " 970: 'frequent',\n",
       " 971: 'funny',\n",
       " 972: 'lovely',\n",
       " 973: 'code',\n",
       " 974: 'mail',\n",
       " 975: 'preferred',\n",
       " 976: 'badcustomerservice',\n",
       " 977: 'flightling',\n",
       " 978: 'usually',\n",
       " 979: 'definitely',\n",
       " 980: 'followed',\n",
       " 981: 'offering',\n",
       " 982: 'phoenix',\n",
       " 983: 'gates',\n",
       " 984: 'office',\n",
       " 985: 'tho',\n",
       " 986: 'difference',\n",
       " 987: 'cc',\n",
       " 988: '23',\n",
       " 989: 'de',\n",
       " 990: 'per',\n",
       " 991: 'following',\n",
       " 992: 'catering',\n",
       " 993: 'conf',\n",
       " 994: 'turned',\n",
       " 995: '16',\n",
       " 996: 'warm',\n",
       " 997: 'funeral',\n",
       " 998: 'expensive',\n",
       " 999: 'news',\n",
       " 1000: 'traveler',\n",
       " ...}"
      ]
     },
     "execution_count": 13,
     "metadata": {},
     "output_type": "execute_result"
    }
   ],
   "source": [
    "int_to_word"
   ]
  },
  {
   "cell_type": "markdown",
   "metadata": {},
   "source": [
    "Map each word in a given sentence to the corresponding word associated with it.\n",
    "* In the preceding step, converting a text review into a list of lists where each list constitutes the ID of words contained in a sentence."
   ]
  },
  {
   "cell_type": "code",
   "execution_count": 14,
   "metadata": {},
   "outputs": [],
   "source": [
    "mapped_reviews = []\n",
    "for review in data['text']:\n",
    "    mapped_reviews.append([word_to_int[word] for word in review.split()])"
   ]
  },
  {
   "cell_type": "markdown",
   "metadata": {},
   "source": [
    "A sample of original and mapped review is as follows."
   ]
  },
  {
   "cell_type": "code",
   "execution_count": 15,
   "metadata": {},
   "outputs": [
    {
     "name": "stdout",
     "output_type": "stream",
     "text": [
      "Original text: virginamerica plus added commercials experience tacky\n",
      "Mapped text: [44, 450, 1142, 2233, 100, 5429]\n"
     ]
    }
   ],
   "source": [
    "print('Original text:',data.loc[0]['text'])\n",
    "print('Mapped text:',mapped_reviews[0])"
   ]
  },
  {
   "cell_type": "code",
   "execution_count": 16,
   "metadata": {},
   "outputs": [
    {
     "data": {
      "text/plain": [
       "0    virginamerica plus added commercials experienc...\n",
       "1    virginamerica really aggressive blast obnoxiou...\n",
       "Name: text, dtype: object"
      ]
     },
     "execution_count": 16,
     "metadata": {},
     "output_type": "execute_result"
    }
   ],
   "source": [
    "data.loc[0:1]['text']"
   ]
  },
  {
   "cell_type": "code",
   "execution_count": 17,
   "metadata": {},
   "outputs": [
    {
     "data": {
      "text/plain": [
       "[[44, 450, 1142, 2233, 100, 5429],\n",
       " [44, 57, 3036, 3845, 3846, 815, 3037, 3847, 19, 366, 2234]]"
      ]
     },
     "execution_count": 17,
     "metadata": {},
     "output_type": "execute_result"
    }
   ],
   "source": [
    "mapped_reviews[0:2]"
   ]
  },
  {
   "cell_type": "markdown",
   "metadata": {},
   "source": [
    "Extract the maximum length of a sentence and normalize all sentences to the same length by padding them. \n",
    "* In the following code, looping through all the reviews and storing the length corresponding to each review. Additionally, calculating the maximum length of a review (tweet text)."
   ]
  },
  {
   "cell_type": "code",
   "execution_count": 18,
   "metadata": {},
   "outputs": [
    {
     "data": {
      "text/plain": [
       "26"
      ]
     },
     "execution_count": 18,
     "metadata": {},
     "output_type": "execute_result"
    }
   ],
   "source": [
    "length_sent = []\n",
    "for i in range(len(mapped_reviews)):\n",
    "    length_sent.append(len(mapped_reviews[i]))\n",
    "max(length_sent)"
   ]
  },
  {
   "cell_type": "markdown",
   "metadata": {},
   "source": [
    "* Note that different tweets have different lengths. \n",
    "* RNN expects the number of time steps for each input to be the same. \n",
    "* In the code below, padding a mapped review  with a value of 0, if the length of the review is less than the maximum length of all reviews in dataset. \n",
    "* This way, all inputs will have the same length."
   ]
  },
  {
   "cell_type": "code",
   "execution_count": 19,
   "metadata": {},
   "outputs": [],
   "source": [
    "sequence_length = max(length_sent)\n",
    "X = pad_sequences(maxlen=sequence_length, sequences=mapped_reviews, padding=\"post\", value=0)"
   ]
  },
  {
   "cell_type": "code",
   "execution_count": 20,
   "metadata": {},
   "outputs": [
    {
     "data": {
      "text/plain": [
       "(11541, 26)"
      ]
     },
     "execution_count": 20,
     "metadata": {},
     "output_type": "execute_result"
    }
   ],
   "source": [
    "X.shape"
   ]
  },
  {
   "cell_type": "markdown",
   "metadata": {},
   "source": [
    "Prepare the training and test datasets.\n",
    "* Splitting the original data into the train and test datasets, and converting the dependent variable into a one-hot-encoded variable."
   ]
  },
  {
   "cell_type": "code",
   "execution_count": 21,
   "metadata": {},
   "outputs": [],
   "source": [
    "y=data['airline_sentiment'].values\n",
    "X_train, X_test, y_train, y_test = train_test_split(X, y, test_size=0.30,random_state=10)\n",
    "y_train2 = to_categorical(y_train)\n",
    "y_test2 = to_categorical(y_test)"
   ]
  },
  {
   "cell_type": "markdown",
   "metadata": {},
   "source": [
    "Build the RNN architecture and compile the model.\n",
    "* Note: embedding takes the total number of distinct words as input, and creates a vector for each word, where \n",
    "* \"output_dim\" represents the number of dimensions in which the word is to be represented. \n",
    "* \"input_length\" represents the number of words in each sentence."
   ]
  },
  {
   "cell_type": "code",
   "execution_count": 22,
   "metadata": {},
   "outputs": [
    {
     "name": "stdout",
     "output_type": "stream",
     "text": [
      "WARNING:tensorflow:From C:\\Users\\maninaya\\Anaconda3\\envs\\maninaya\\lib\\site-packages\\tensorflow\\python\\framework\\op_def_library.py:263: colocate_with (from tensorflow.python.framework.ops) is deprecated and will be removed in a future version.\n",
      "Instructions for updating:\n",
      "Colocations handled automatically by placer.\n"
     ]
    }
   ],
   "source": [
    "embedding_vecor_length=32\n",
    "max_review_length=26\n",
    "model = Sequential()\n",
    "model.add(Embedding(input_dim=12533, output_dim=32, input_length = 26))"
   ]
  },
  {
   "cell_type": "markdown",
   "metadata": {},
   "source": [
    "Note: \n",
    "* In the LSTM layer, if we want to extract the output of each time step, then \"return_sequences\" parameter should set to True.\n",
    "* In this use case I extract the output only after reading through all the input words and so I set \"return_sequences\" = False."
   ]
  },
  {
   "cell_type": "code",
   "execution_count": 23,
   "metadata": {},
   "outputs": [],
   "source": [
    "model.add(LSTM(40, return_sequences=False))"
   ]
  },
  {
   "cell_type": "code",
   "execution_count": 24,
   "metadata": {},
   "outputs": [
    {
     "name": "stdout",
     "output_type": "stream",
     "text": [
      "_________________________________________________________________\n",
      "Layer (type)                 Output Shape              Param #   \n",
      "=================================================================\n",
      "embedding_1 (Embedding)      (None, 26, 32)            401056    \n",
      "_________________________________________________________________\n",
      "lstm_1 (LSTM)                (None, 40)                11680     \n",
      "_________________________________________________________________\n",
      "dense_1 (Dense)              (None, 2)                 82        \n",
      "=================================================================\n",
      "Total params: 412,818\n",
      "Trainable params: 412,818\n",
      "Non-trainable params: 0\n",
      "_________________________________________________________________\n",
      "None\n"
     ]
    }
   ],
   "source": [
    "model.add(Dense(2, activation='softmax'))\n",
    "model.compile(loss='categorical_crossentropy', optimizer='adam', metrics=['accuracy'])\n",
    "print(model.summary())"
   ]
  },
  {
   "cell_type": "markdown",
   "metadata": {},
   "source": [
    "LSTM layer has a different number of parameters.\n",
    "\n",
    "Let's understand how 11,680 parameters are obtained in the LSTM layer"
   ]
  },
  {
   "cell_type": "code",
   "execution_count": 25,
   "metadata": {},
   "outputs": [
    {
     "name": "stdout",
     "output_type": "stream",
     "text": [
      "(32, 160) (40, 160) (160,)\n"
     ]
    }
   ],
   "source": [
    "W = model.layers[1].get_weights()[0]\n",
    "U = model.layers[1].get_weights()[1]\n",
    "b = model.layers[1].get_weights()[2]\n",
    "print(W.shape,U.shape,b.shape)"
   ]
  },
  {
   "cell_type": "markdown",
   "metadata": {},
   "source": [
    "Note that the total of the preceding weights has (32*160) + (40*160) + 160 = 11,680 parameters."
   ]
  },
  {
   "cell_type": "markdown",
   "metadata": {},
   "source": [
    "Fit the model."
   ]
  },
  {
   "cell_type": "code",
   "execution_count": 26,
   "metadata": {},
   "outputs": [
    {
     "name": "stdout",
     "output_type": "stream",
     "text": [
      "WARNING:tensorflow:From C:\\Users\\maninaya\\Anaconda3\\envs\\maninaya\\lib\\site-packages\\tensorflow\\python\\ops\\math_ops.py:3066: to_int32 (from tensorflow.python.ops.math_ops) is deprecated and will be removed in a future version.\n",
      "Instructions for updating:\n",
      "Use tf.cast instead.\n",
      "Train on 8078 samples, validate on 3463 samples\n",
      "Epoch 1/10\n",
      "8078/8078 [==============================] - 7s 861us/step - loss: 0.4089 - acc: 0.8363 - val_loss: 0.2259 - val_acc: 0.9079\n",
      "Epoch 2/10\n",
      "8078/8078 [==============================] - 5s 608us/step - loss: 0.1598 - acc: 0.9416 - val_loss: 0.1969 - val_acc: 0.9226\n",
      "Epoch 3/10\n",
      "8078/8078 [==============================] - 5s 622us/step - loss: 0.0888 - acc: 0.9707 - val_loss: 0.2696 - val_acc: 0.9183\n",
      "Epoch 4/10\n",
      "8078/8078 [==============================] - 5s 651us/step - loss: 0.0520 - acc: 0.9842 - val_loss: 0.2695 - val_acc: 0.9041\n",
      "Epoch 5/10\n",
      "8078/8078 [==============================] - 6s 708us/step - loss: 0.0346 - acc: 0.9923 - val_loss: 0.3392 - val_acc: 0.9041\n",
      "Epoch 6/10\n",
      "8078/8078 [==============================] - 5s 622us/step - loss: 0.0258 - acc: 0.9934 - val_loss: 0.4182 - val_acc: 0.8917\n",
      "Epoch 7/10\n",
      "8078/8078 [==============================] - 5s 680us/step - loss: 0.0211 - acc: 0.9948 - val_loss: 0.4592 - val_acc: 0.8825\n",
      "Epoch 8/10\n",
      "8078/8078 [==============================] - 6s 703us/step - loss: 0.0193 - acc: 0.9948 - val_loss: 0.4157 - val_acc: 0.9076\n",
      "Epoch 9/10\n",
      "8078/8078 [==============================] - 5s 676us/step - loss: 0.0162 - acc: 0.9960 - val_loss: 0.4504 - val_acc: 0.9090\n",
      "Epoch 10/10\n",
      "8078/8078 [==============================] - 5s 675us/step - loss: 0.0148 - acc: 0.9960 - val_loss: 0.3831 - val_acc: 0.8940\n"
     ]
    }
   ],
   "source": [
    "history = model.fit(X_train, y_train2, validation_data=(X_test, y_test2), epochs=10, batch_size=32)"
   ]
  },
  {
   "cell_type": "markdown",
   "metadata": {},
   "source": [
    "We can see that the accuracy of our model is ~89% in predicting the sentiment of a tweet."
   ]
  },
  {
   "cell_type": "markdown",
   "metadata": {},
   "source": [
    "Plot the confusion matrix of predictions."
   ]
  },
  {
   "cell_type": "code",
   "execution_count": 27,
   "metadata": {},
   "outputs": [
    {
     "data": {
      "text/plain": [
       "array([[2572,  197],\n",
       "       [ 170,  524]], dtype=int64)"
      ]
     },
     "execution_count": 27,
     "metadata": {},
     "output_type": "execute_result"
    }
   ],
   "source": [
    "pred = model.predict(X_test)\n",
    "pred2 = np.where(pred>0.5,1,0)\n",
    "pred_class= argmax(pred2, axis=1)\n",
    "confusion_matrix(y_test, pred_class)"
   ]
  },
  {
   "cell_type": "markdown",
   "metadata": {},
   "source": [
    "From the above, we see that in 2,572 sentences, we predicted them to be positive and they are actually positive. 197 sentences were predicted to be negative and happened to be positive. 170 sentences were predicted to be positive and happened to be negative and finally, 524 sentences were predicted negative and were actually negative."
   ]
  },
  {
   "cell_type": "code",
   "execution_count": 28,
   "metadata": {},
   "outputs": [
    {
     "data": {
      "image/png": "[encoded data removed]",
      "text/plain": [
       "<Figure size 432x288 with 1 Axes>"
      ]
     },
     "metadata": {
      "needs_background": "light"
     },
     "output_type": "display_data"
    },
    {
     "data": {
      "image/png": "[encoded data removed]",
      "text/plain": [
       "<Figure size 432x288 with 1 Axes>"
      ]
     },
     "metadata": {
      "needs_background": "light"
     },
     "output_type": "display_data"
    }
   ],
   "source": [
    "history_dict = history.history\n",
    "loss_values = history_dict['loss']\n",
    "val_loss_values = history_dict['val_loss']\n",
    "acc_values = history_dict['acc']\n",
    "val_acc_values = history_dict['val_acc']\n",
    "epochs = range(1, len(val_loss_values) + 1)\n",
    "\n",
    "plt.subplot(211)\n",
    "plt.plot(epochs, history.history['loss'], 'bo', label='Training loss')\n",
    "plt.plot(epochs, val_loss_values, 'r', label='Test loss')\n",
    "plt.title('Training and test loss')\n",
    "plt.xlabel('Epochs')\n",
    "plt.ylabel('Loss')\n",
    "plt.legend()\n",
    "plt.grid('off')\n",
    "plt.show()\n",
    "\n",
    "\n",
    "plt.subplot(212)\n",
    "plt.plot(epochs, history.history['acc'], 'bo', label='Training accuracy')\n",
    "plt.plot(epochs, val_acc_values, 'r', label='Test accuracy')\n",
    "plt.title('Training and test accuracy')\n",
    "plt.xlabel('Epochs')\n",
    "plt.ylabel('Accuracy')\n",
    "plt.gca().set_yticklabels(['{:.0f}%'.format(x*100) for x in plt.gca().get_yticks()]) \n",
    "plt.legend()\n",
    "plt.grid('off')\n",
    "plt.show()"
   ]
  },
  {
   "cell_type": "markdown",
   "metadata": {},
   "source": [
    "# Sentiment classification using stacked LSTM"
   ]
  },
  {
   "cell_type": "code",
   "execution_count": 29,
   "metadata": {},
   "outputs": [
    {
     "name": "stdout",
     "output_type": "stream",
     "text": [
      "_________________________________________________________________\n",
      "Layer (type)                 Output Shape              Param #   \n",
      "=================================================================\n",
      "embedding_2 (Embedding)      (None, 26, 32)            401056    \n",
      "_________________________________________________________________\n",
      "lstm1 (LSTM)                 (None, 26, 40)            11680     \n",
      "_________________________________________________________________\n",
      "lstm2 (LSTM)                 (None, 40)                12960     \n",
      "_________________________________________________________________\n",
      "dense_2 (Dense)              (None, 2)                 82        \n",
      "=================================================================\n",
      "Total params: 425,778\n",
      "Trainable params: 425,778\n",
      "Non-trainable params: 0\n",
      "_________________________________________________________________\n",
      "None\n"
     ]
    }
   ],
   "source": [
    "embedding_vecor_length=32\n",
    "max_review_length=26\n",
    "model = Sequential()\n",
    "model.add(Embedding(input_dim=12533, output_dim=32, input_length = 26))\n",
    "model.add(LSTM(40, return_sequences=True,name='lstm1'))\n",
    "model.add(LSTM(40, return_sequences=False,name='lstm2'))\n",
    "model.add(Dense(2, activation='softmax'))\n",
    "model.compile(loss='categorical_crossentropy', optimizer='adam', metrics=['accuracy'])\n",
    "print(model.summary())"
   ]
  },
  {
   "cell_type": "code",
   "execution_count": 30,
   "metadata": {},
   "outputs": [
    {
     "name": "stdout",
     "output_type": "stream",
     "text": [
      "(40, 160) (40, 160) (160,)\n"
     ]
    }
   ],
   "source": [
    "W = model.layers[2].get_weights()[0]\n",
    "U = model.layers[2].get_weights()[1]\n",
    "b = model.layers[2].get_weights()[2]\n",
    "print(W.shape,U.shape,b.shape)"
   ]
  },
  {
   "cell_type": "code",
   "execution_count": 31,
   "metadata": {},
   "outputs": [
    {
     "name": "stdout",
     "output_type": "stream",
     "text": [
      "Train on 8078 samples, validate on 3463 samples\n",
      "Epoch 1/10\n",
      "8078/8078 [==============================] - 12s 2ms/step - loss: 0.3691 - acc: 0.8505 - val_loss: 0.2268 - val_acc: 0.9116\n",
      "Epoch 2/10\n",
      "8078/8078 [==============================] - 9s 1ms/step - loss: 0.1450 - acc: 0.9465 - val_loss: 0.2121 - val_acc: 0.9220\n",
      "Epoch 3/10\n",
      "8078/8078 [==============================] - 9s 1ms/step - loss: 0.0785 - acc: 0.9754 - val_loss: 0.2407 - val_acc: 0.9197\n",
      "Epoch 4/10\n",
      "8078/8078 [==============================] - 9s 1ms/step - loss: 0.0485 - acc: 0.9851 - val_loss: 0.3088 - val_acc: 0.9105\n",
      "Epoch 5/10\n",
      "8078/8078 [==============================] - 10s 1ms/step - loss: 0.0400 - acc: 0.9875 - val_loss: 0.3576 - val_acc: 0.9142\n",
      "Epoch 6/10\n",
      "8078/8078 [==============================] - 9s 1ms/step - loss: 0.0264 - acc: 0.9926 - val_loss: 0.3507 - val_acc: 0.9096\n",
      "Epoch 7/10\n",
      "8078/8078 [==============================] - 9s 1ms/step - loss: 0.0180 - acc: 0.9955 - val_loss: 0.5165 - val_acc: 0.9076\n",
      "Epoch 8/10\n",
      "8078/8078 [==============================] - 9s 1ms/step - loss: 0.0170 - acc: 0.9960 - val_loss: 0.4726 - val_acc: 0.9099\n",
      "Epoch 9/10\n",
      "8078/8078 [==============================] - 9s 1ms/step - loss: 0.0128 - acc: 0.9972 - val_loss: 0.4046 - val_acc: 0.9041\n",
      "Epoch 10/10\n",
      "8078/8078 [==============================] - 10s 1ms/step - loss: 0.0181 - acc: 0.9960 - val_loss: 0.4247 - val_acc: 0.8885\n"
     ]
    }
   ],
   "source": [
    "history = model.fit(X_train, y_train2, validation_data=(X_test, y_test2), epochs=10, batch_size=32)"
   ]
  },
  {
   "cell_type": "markdown",
   "metadata": {},
   "source": [
    "We can see that the accuracy of our model is ~89% in predicting the sentiment of a tweet."
   ]
  },
  {
   "cell_type": "markdown",
   "metadata": {},
   "source": [
    "Plot the confusion matrix of predictions."
   ]
  },
  {
   "cell_type": "code",
   "execution_count": 32,
   "metadata": {},
   "outputs": [
    {
     "data": {
      "text/plain": [
       "array([[2509,  260],\n",
       "       [ 126,  568]], dtype=int64)"
      ]
     },
     "execution_count": 32,
     "metadata": {},
     "output_type": "execute_result"
    }
   ],
   "source": [
    "pred = model.predict(X_test)\n",
    "pred2 = np.where(pred>0.5,1,0)\n",
    "pred_class= argmax(pred2, axis=1)\n",
    "confusion_matrix(y_test, pred_class)"
   ]
  },
  {
   "cell_type": "markdown",
   "metadata": {},
   "source": [
    "From the above, we see that in 2,509 sentences, we predicted them to be positive and they are actually positive. 260 sentences were predicted to be negative and happened to be positive. 126 sentences were predicted to be positive and happened to be negative and finally, 568 sentences were predicted negative and were actually negative."
   ]
  },
  {
   "cell_type": "code",
   "execution_count": 33,
   "metadata": {},
   "outputs": [
    {
     "data": {
      "image/png": "[encoded data removed]",
      "text/plain": [
       "<Figure size 432x288 with 1 Axes>"
      ]
     },
     "metadata": {
      "needs_background": "light"
     },
     "output_type": "display_data"
    },
    {
     "data": {
      "image/png": "[encoded data removed]",
      "text/plain": [
       "<Figure size 432x288 with 1 Axes>"
      ]
     },
     "metadata": {
      "needs_background": "light"
     },
     "output_type": "display_data"
    }
   ],
   "source": [
    "history_dict = history.history\n",
    "loss_values = history_dict['loss']\n",
    "val_loss_values = history_dict['val_loss']\n",
    "acc_values = history_dict['acc']\n",
    "val_acc_values = history_dict['val_acc']\n",
    "epochs = range(1, len(val_loss_values) + 1)\n",
    "\n",
    "plt.subplot(211)\n",
    "plt.plot(epochs, history.history['loss'], 'bo', label='Training loss')\n",
    "plt.plot(epochs, val_loss_values, 'r', label='Test loss')\n",
    "plt.title('Training and test loss')\n",
    "plt.xlabel('Epochs')\n",
    "plt.ylabel('Loss')\n",
    "plt.legend()\n",
    "plt.grid('off')\n",
    "plt.show()\n",
    "\n",
    "\n",
    "plt.subplot(212)\n",
    "plt.plot(epochs, history.history['acc'], 'bo', label='Training accuracy')\n",
    "plt.plot(epochs, val_acc_values, 'r', label='Test accuracy')\n",
    "plt.title('Training and test accuracy')\n",
    "plt.xlabel('Epochs')\n",
    "plt.ylabel('Accuracy')\n",
    "plt.gca().set_yticklabels(['{:.0f}%'.format(x*100) for x in plt.gca().get_yticks()]) \n",
    "plt.legend()\n",
    "plt.grid('off')\n",
    "plt.show()"
   ]
  }
 ],
 "metadata": {
  "kernelspec": {
   "display_name": "Python 3",
   "language": "python",
   "name": "python3"
  },
  "language_info": {
   "codemirror_mode": {
    "name": "ipython",
    "version": 3
   },
   "file_extension": ".py",
   "mimetype": "text/x-python",
   "name": "python",
   "nbconvert_exporter": "python",
   "pygments_lexer": "ipython3",
   "version": "3.7.3"
  }
 },
 "nbformat": 4,
 "nbformat_minor": 2
}
